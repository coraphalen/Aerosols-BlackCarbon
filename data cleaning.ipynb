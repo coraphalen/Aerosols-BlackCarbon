{
 "cells": [
  {
   "cell_type": "code",
   "execution_count": 1,
   "metadata": {},
   "outputs": [
    {
     "name": "stderr",
     "output_type": "stream",
     "text": [
      "c:\\Users\\cphal\\AppData\\Local\\Programs\\Python\\Python310\\lib\\site-packages\\icartt\\dataset.py:290: UserWarning: Normal comments: required keyword PLATFORM is missing.\n",
      "  warnings.warn(\n",
      "c:\\Users\\cphal\\AppData\\Local\\Programs\\Python\\Python310\\lib\\site-packages\\icartt\\dataset.py:692: UserWarning: Number of header lines suggested in line 1 (70) do not match actual header lines read (71)\n",
      "  warnings.warn(\n"
     ]
    }
   ],
   "source": [
    "from sqlalchemy import create_engine\n",
    "import pandas as pd\n",
    "import icartt\n",
    "import pathlib\n",
    "import os\n",
    "\n",
    "path=os.chdir(str('c:/Users/cphal/Desktop/'))\n",
    "\n",
    "# load a new dataset from an existing file\n",
    "#wd = pathlib.Path(__file__).parent\n",
    "ict = icartt.Dataset(\"c:/Users/cphal/Desktop/Aerosols/CAMP2EX/\" + \"CAMP2EX-MetNav10Hz_P3B_20191009_R0.ict\")\n",
    "\n",
    "# list variable names\n",
    "varnames = [x for x in ict.variables]\n",
    "#print(varnames)\n",
    "\n",
    "#get date\n",
    "date = ict.dateOfCollection\n",
    "year = date[0]\n",
    "month = date[1]\n",
    "day = date[2]\n",
    "\n",
    "\n",
    "# get all data (NumPy array):\n",
    "df = ict.data[:]\n",
    "#print(df)"
   ]
  },
  {
   "cell_type": "code",
   "execution_count": 4,
   "metadata": {},
   "outputs": [
    {
     "name": "stdout",
     "output_type": "stream",
     "text": [
      "        Time_Start  Day_Of_Year   Latitude   Longitude  GPS_Altitude  \\\n",
      "0          64064.0        282.0  21.306837 -157.945190          23.0   \n",
      "1          64064.1        282.0  21.306837 -157.945190          23.0   \n",
      "2          64064.2        282.0  21.306837 -157.945190          23.0   \n",
      "3          64064.3        282.0  21.306839 -157.945190          23.0   \n",
      "4          64064.4        282.0  21.306839 -157.945190          23.0   \n",
      "...            ...          ...        ...         ...           ...   \n",
      "232156     87279.6        282.0  34.118790 -119.121078           4.0   \n",
      "232157     87279.7        282.0  34.118790 -119.121078           4.0   \n",
      "232158     87279.8        282.0  34.118790 -119.121078           4.0   \n",
      "232159     87279.9        282.0  34.118790 -119.121078           4.0   \n",
      "232160     87280.0        282.0  34.118790 -119.121078           4.0   \n",
      "\n",
      "        Pressure_Altitude  Radar_Altitude  Ground_Speed  True_Air_Speed  \\\n",
      "0                    59.0             NaN          0.69         -8888.0   \n",
      "1                    63.0             NaN          0.69         -8888.0   \n",
      "2                    60.0             NaN          0.69         -8888.0   \n",
      "3                    63.0             NaN          0.69         -8888.0   \n",
      "4                    53.0             NaN          0.69         -8888.0   \n",
      "...                   ...             ...           ...             ...   \n",
      "232156              134.0             NaN          0.46         -8888.0   \n",
      "232157              134.0             NaN          0.46         -8888.0   \n",
      "232158              138.0             NaN          0.42         -8888.0   \n",
      "232159              138.0             NaN          0.38         -8888.0   \n",
      "232160              138.0             NaN          0.38         -8888.0   \n",
      "\n",
      "        Indicated_Air_Speed  ...  Wind_Direction  Solar_Zenith_Angle  \\\n",
      "0                   -8888.0  ...             NaN                72.2   \n",
      "1                   -8888.0  ...             NaN                72.2   \n",
      "2                   -8888.0  ...             NaN                72.2   \n",
      "3                   -8888.0  ...             NaN                72.2   \n",
      "4                   -8888.0  ...             NaN                72.2   \n",
      "...                     ...  ...             ...                 ...   \n",
      "232156              -8888.0  ...             NaN                75.4   \n",
      "232157              -8888.0  ...             NaN                75.4   \n",
      "232158              -8888.0  ...             NaN                75.4   \n",
      "232159              -8888.0  ...             NaN                75.4   \n",
      "232160              -8888.0  ...             NaN                75.4   \n",
      "\n",
      "        Aircraft_Sun_Elevation  Sun_Azimuth  Aircraft_Sun_Azimuth  \\\n",
      "0                         19.2        104.5                  12.4   \n",
      "1                         19.2        104.5                  12.4   \n",
      "2                         19.2        104.5                  12.4   \n",
      "3                         19.2        104.5                  12.4   \n",
      "4                         19.2        104.5                  12.4   \n",
      "...                        ...          ...                   ...   \n",
      "232156                    13.5       -108.5                 148.2   \n",
      "232157                    13.5       -108.5                 148.2   \n",
      "232158                    13.5       -108.5                 148.2   \n",
      "232159                    13.5       -108.5                 148.2   \n",
      "232160                    13.4       -108.5                 148.0   \n",
      "\n",
      "        Mixing_Ratio  Part_Press_Water_Vapor  Sat_Vapor_Press_H2O  \\\n",
      "0                NaN                     NaN                39.86   \n",
      "1                NaN                     NaN                39.86   \n",
      "2                NaN                     NaN                39.86   \n",
      "3                NaN                     NaN                39.86   \n",
      "4                NaN                     NaN                39.86   \n",
      "...              ...                     ...                  ...   \n",
      "232156           NaN                     NaN                25.50   \n",
      "232157           NaN                     NaN                25.50   \n",
      "232158           NaN                     NaN                25.50   \n",
      "232159           NaN                     NaN                25.50   \n",
      "232160           NaN                     NaN                25.50   \n",
      "\n",
      "        Sat_Vapor_Press_Ice  Relative_Humidity  \n",
      "0                     52.52                NaN  \n",
      "1                     52.52                NaN  \n",
      "2                     52.52                NaN  \n",
      "3                     52.52                NaN  \n",
      "4                     52.52                NaN  \n",
      "...                     ...                ...  \n",
      "232156                31.30                NaN  \n",
      "232157                31.30                NaN  \n",
      "232158                31.30                NaN  \n",
      "232159                31.30                NaN  \n",
      "232160                31.30                NaN  \n",
      "\n",
      "[232161 rows x 35 columns]\n"
     ]
    }
   ],
   "source": [
    "#print to pandas dataframe\n",
    "dfpandas = pd.DataFrame(df, columns = varnames)\n",
    "print(dfpandas)"
   ]
  },
  {
   "cell_type": "code",
   "execution_count": 3,
   "metadata": {},
   "outputs": [],
   "source": [
    "#find times in array\n",
    "timeArr = [x for x in ict.times]\n",
    "#print(timeArr)"
   ]
  },
  {
   "cell_type": "code",
   "execution_count": null,
   "metadata": {},
   "outputs": [],
   "source": [
    "#insert timeArr into df\n",
    "dfpandas['Times'] = timeArr\n",
    "print(dfpandas)"
   ]
  },
  {
   "cell_type": "code",
   "execution_count": 19,
   "metadata": {},
   "outputs": [
    {
     "ename": "KeyError",
     "evalue": "68955.0",
     "output_type": "error",
     "traceback": [
      "\u001b[1;31m---------------------------------------------------------------------------\u001b[0m",
      "\u001b[1;31mKeyError\u001b[0m                                  Traceback (most recent call last)",
      "File \u001b[1;32mc:\\Users\\cphal\\AppData\\Local\\Programs\\Python\\Python310\\lib\\site-packages\\pandas\\core\\indexes\\base.py:3803\u001b[0m, in \u001b[0;36mIndex.get_loc\u001b[1;34m(self, key, method, tolerance)\u001b[0m\n\u001b[0;32m   3802\u001b[0m \u001b[39mtry\u001b[39;00m:\n\u001b[1;32m-> 3803\u001b[0m     \u001b[39mreturn\u001b[39;00m \u001b[39mself\u001b[39;49m\u001b[39m.\u001b[39;49m_engine\u001b[39m.\u001b[39;49mget_loc(casted_key)\n\u001b[0;32m   3804\u001b[0m \u001b[39mexcept\u001b[39;00m \u001b[39mKeyError\u001b[39;00m \u001b[39mas\u001b[39;00m err:\n",
      "File \u001b[1;32mc:\\Users\\cphal\\AppData\\Local\\Programs\\Python\\Python310\\lib\\site-packages\\pandas\\_libs\\index.pyx:138\u001b[0m, in \u001b[0;36mpandas._libs.index.IndexEngine.get_loc\u001b[1;34m()\u001b[0m\n",
      "File \u001b[1;32mc:\\Users\\cphal\\AppData\\Local\\Programs\\Python\\Python310\\lib\\site-packages\\pandas\\_libs\\index.pyx:165\u001b[0m, in \u001b[0;36mpandas._libs.index.IndexEngine.get_loc\u001b[1;34m()\u001b[0m\n",
      "File \u001b[1;32mpandas\\_libs\\hashtable_class_helper.pxi:5745\u001b[0m, in \u001b[0;36mpandas._libs.hashtable.PyObjectHashTable.get_item\u001b[1;34m()\u001b[0m\n",
      "File \u001b[1;32mpandas\\_libs\\hashtable_class_helper.pxi:5753\u001b[0m, in \u001b[0;36mpandas._libs.hashtable.PyObjectHashTable.get_item\u001b[1;34m()\u001b[0m\n",
      "\u001b[1;31mKeyError\u001b[0m: 68955.0",
      "\nThe above exception was the direct cause of the following exception:\n",
      "\u001b[1;31mKeyError\u001b[0m                                  Traceback (most recent call last)",
      "Cell \u001b[1;32mIn [19], line 13\u001b[0m\n\u001b[0;32m     11\u001b[0m     finalRows\u001b[39m.\u001b[39mappend(\u001b[39m0\u001b[39m)\n\u001b[0;32m     12\u001b[0m \u001b[39mfor\u001b[39;00m x \u001b[39min\u001b[39;00m currRows:\n\u001b[1;32m---> 13\u001b[0m     \u001b[39mif\u001b[39;00m currRows[x]\u001b[39m.\u001b[39mnotnull():\n\u001b[0;32m     14\u001b[0m         \u001b[39mprint\u001b[39m(currRows[x] \u001b[39m+\u001b[39m finalRows[x])\n",
      "File \u001b[1;32mc:\\Users\\cphal\\AppData\\Local\\Programs\\Python\\Python310\\lib\\site-packages\\pandas\\core\\series.py:981\u001b[0m, in \u001b[0;36mSeries.__getitem__\u001b[1;34m(self, key)\u001b[0m\n\u001b[0;32m    978\u001b[0m     \u001b[39mreturn\u001b[39;00m \u001b[39mself\u001b[39m\u001b[39m.\u001b[39m_values[key]\n\u001b[0;32m    980\u001b[0m \u001b[39melif\u001b[39;00m key_is_scalar:\n\u001b[1;32m--> 981\u001b[0m     \u001b[39mreturn\u001b[39;00m \u001b[39mself\u001b[39;49m\u001b[39m.\u001b[39;49m_get_value(key)\n\u001b[0;32m    983\u001b[0m \u001b[39mif\u001b[39;00m is_hashable(key):\n\u001b[0;32m    984\u001b[0m     \u001b[39m# Otherwise index.get_value will raise InvalidIndexError\u001b[39;00m\n\u001b[0;32m    985\u001b[0m     \u001b[39mtry\u001b[39;00m:\n\u001b[0;32m    986\u001b[0m         \u001b[39m# For labels that don't resolve as scalars like tuples and frozensets\u001b[39;00m\n",
      "File \u001b[1;32mc:\\Users\\cphal\\AppData\\Local\\Programs\\Python\\Python310\\lib\\site-packages\\pandas\\core\\series.py:1089\u001b[0m, in \u001b[0;36mSeries._get_value\u001b[1;34m(self, label, takeable)\u001b[0m\n\u001b[0;32m   1086\u001b[0m     \u001b[39mreturn\u001b[39;00m \u001b[39mself\u001b[39m\u001b[39m.\u001b[39m_values[label]\n\u001b[0;32m   1088\u001b[0m \u001b[39m# Similar to Index.get_value, but we do not fall back to positional\u001b[39;00m\n\u001b[1;32m-> 1089\u001b[0m loc \u001b[39m=\u001b[39m \u001b[39mself\u001b[39;49m\u001b[39m.\u001b[39;49mindex\u001b[39m.\u001b[39;49mget_loc(label)\n\u001b[0;32m   1090\u001b[0m \u001b[39mreturn\u001b[39;00m \u001b[39mself\u001b[39m\u001b[39m.\u001b[39mindex\u001b[39m.\u001b[39m_get_values_for_loc(\u001b[39mself\u001b[39m, loc, label)\n",
      "File \u001b[1;32mc:\\Users\\cphal\\AppData\\Local\\Programs\\Python\\Python310\\lib\\site-packages\\pandas\\core\\indexes\\base.py:3805\u001b[0m, in \u001b[0;36mIndex.get_loc\u001b[1;34m(self, key, method, tolerance)\u001b[0m\n\u001b[0;32m   3803\u001b[0m     \u001b[39mreturn\u001b[39;00m \u001b[39mself\u001b[39m\u001b[39m.\u001b[39m_engine\u001b[39m.\u001b[39mget_loc(casted_key)\n\u001b[0;32m   3804\u001b[0m \u001b[39mexcept\u001b[39;00m \u001b[39mKeyError\u001b[39;00m \u001b[39mas\u001b[39;00m err:\n\u001b[1;32m-> 3805\u001b[0m     \u001b[39mraise\u001b[39;00m \u001b[39mKeyError\u001b[39;00m(key) \u001b[39mfrom\u001b[39;00m \u001b[39merr\u001b[39;00m\n\u001b[0;32m   3806\u001b[0m \u001b[39mexcept\u001b[39;00m \u001b[39mTypeError\u001b[39;00m:\n\u001b[0;32m   3807\u001b[0m     \u001b[39m# If we have a listlike key, _check_indexing_error will raise\u001b[39;00m\n\u001b[0;32m   3808\u001b[0m     \u001b[39m#  InvalidIndexError. Otherwise we fall through and re-raise\u001b[39;00m\n\u001b[0;32m   3809\u001b[0m     \u001b[39m#  the TypeError.\u001b[39;00m\n\u001b[0;32m   3810\u001b[0m     \u001b[39mself\u001b[39m\u001b[39m.\u001b[39m_check_indexing_error(key)\n",
      "\u001b[1;31mKeyError\u001b[0m: 68955.0"
     ]
    }
   ],
   "source": [
    "#loop through the dataframe\n",
    "counter = 0\n",
    "finalRows = []\n",
    "currRows = []\n",
    "#for ind in dfsmall.index:\n",
    "    #sum each row for that series\n",
    "    #while (ind + 1) % multiplier != multiplier - 1:\n",
    "ind = 0\n",
    "currRows = dfsmall.iloc[ind][:]\n",
    "for x in currRows:\n",
    "    finalRows.append(0)\n",
    "for x in currRows:\n",
    "    if currRows[x].notnull():\n",
    "        print(currRows[x] + finalRows[x])\n",
    "        \n",
    "\n",
    "#reset when done\n",
    "    #if (ind + 1) % multiplier == multiplier - 1:\n",
    "        #add current row\n",
    "        #currRows = dfsmall.iloc[ind][:]\n",
    "        #finalRows = currRows + finalRows\n",
    "        #print(finalRows)\n",
    "        #divide sum of rows by \n",
    "        #finalRows = finalRows / multiplier\n",
    "        #counter = 0\n",
    "        #finalRows = 0\n",
    "\n",
    "\n",
    "        "
   ]
  },
  {
   "cell_type": "code",
   "execution_count": 9,
   "metadata": {},
   "outputs": [
    {
     "name": "stdout",
     "output_type": "stream",
     "text": [
      "1.0\n"
     ]
    }
   ],
   "source": [
    "dfsmall = dfpandas.head(240)\n",
    "#find difference in time (in seconds) between second and third rows in the dataframe\n",
    "diffTime = dfsmall.iloc[2][0]-dfsmall.iloc[1][0]\n",
    "print(diffTime)\n",
    "\n",
    "#figure out how that relates to a minute (or sixty seconds)\n",
    "multiplier = 60 / diffTime"
   ]
  },
  {
   "cell_type": "code",
   "execution_count": 8,
   "metadata": {},
   "outputs": [
    {
     "name": "stdout",
     "output_type": "stream",
     "text": [
      "{'Time_mid': [Secs after midnight], IndependentVariable, 'CNgt3nm_stdPT': [cm-3], DependentVariable, 'CNgt6nm_stdPT': [cm-3], DependentVariable, 'CNgt20nm_stdPT': [cm-3], DependentVariable, 'CNgt20nm_nonvol_stdPT': [cm-3], DependentVariable, 'Ngt100nm_LAS_stdPT': [cm-3], DependentVariable, 'Ngt100nm_LAS_nonvol_stdPT': [cm-3], DependentVariable, 'CCN_034_stdPT': [cm-3], DependentVariable, 'N_800to50000nm_CPSPD_stdPT': [cm-3], DependentVariable, 'V_800to50000nm_CPSPD_stdPT': [cm-3], DependentVariable, 'N_2000to50000nm_CDP_ambPT': [cm-3], DependentVariable, 'V_2000to50000nm_CDP_ambPT': [cm-3], DependentVariable, 'stdPT': [unitless], DependentVariable}\n"
     ]
    }
   ],
   "source": [
    "#find units\n",
    "variableDict = ict.variables\n",
    "print(variableDict)"
   ]
  },
  {
   "cell_type": "code",
   "execution_count": 13,
   "metadata": {},
   "outputs": [
    {
     "name": "stdout",
     "output_type": "stream",
     "text": [
      "<built-in method keys of dict object at 0x00000236DE215080>\n"
     ]
    }
   ],
   "source": [
    "varUnits = variableDict.keys\n",
    "print(str(varUnits))\n",
    "\n"
   ]
  }
 ],
 "metadata": {
  "kernelspec": {
   "display_name": "Python 3.10.7 64-bit",
   "language": "python",
   "name": "python3"
  },
  "language_info": {
   "codemirror_mode": {
    "name": "ipython",
    "version": 3
   },
   "file_extension": ".py",
   "mimetype": "text/x-python",
   "name": "python",
   "nbconvert_exporter": "python",
   "pygments_lexer": "ipython3",
   "version": "3.10.7"
  },
  "orig_nbformat": 4,
  "vscode": {
   "interpreter": {
    "hash": "654f528c135dd070c77f913ebef382403b46939e97444d49995b19504ca47e40"
   }
  }
 },
 "nbformat": 4,
 "nbformat_minor": 2
}
