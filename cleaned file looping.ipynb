{
 "cells": [
  {
   "cell_type": "code",
   "execution_count": 1,
   "metadata": {},
   "outputs": [],
   "source": [
    "#import stuff\n",
    "import os\n",
    "import sys\n",
    "import arrow\n",
    "import numpy as np\n",
    "import pandas as pd\n",
    "from math import pi\n",
    "import matplotlib.pyplot as plt\n",
    "import matplotlib.dates as dates\n",
    "import seaborn as sns\n",
    "from datetime import datetime\n",
    "from numpy import nan_to_num\n",
    "from matplotlib.colors import LogNorm\n",
    "from matplotlib.ticker import ScalarFormatter\n",
    "import icartt\n",
    "import utilities"
   ]
  },
  {
   "cell_type": "code",
   "execution_count": 4,
   "metadata": {},
   "outputs": [],
   "source": [
    "#function: abbreviating file names by checking to see if an abbreviation has already been saved\n",
    "#else prompt user to enter new abbreviation\n",
    "#parameters: filename = name of file, length = file name length\n",
    "#returns file_abbrev\n",
    "def check_abbreviations(filename, length, fileDirectory):\n",
    "    #extract file beginning from filename\n",
    "    file_beginning = ''\n",
    "    for element in filename[0 : length - 15 : 1]:\n",
    "        file_beginning = str(file_beginning + element)\n",
    "\n",
    "    table_file = fileDirectory + 'abbreviations.csv'\n",
    "\n",
    "    new_abbrev = utilities.check_table(table_file, 'File_Beginning', 'FILE BEGINNING', file_beginning, 'ABBREVIATION', 'Abbreviation')\n",
    "\n",
    "    return new_abbrev\n"
   ]
  },
  {
   "cell_type": "code",
   "execution_count": 7,
   "metadata": {},
   "outputs": [],
   "source": [
    "#function: renames columns based on user input and saved abbreviations\n",
    "#note! this seems to be glitching! look into it!\n",
    "def rename_columns(fileDirectory, dfpandas):\n",
    "    #extract column names and print\n",
    "    column_names = dfpandas.columns.values.tolist()\n",
    "    print('Current column names and order:' + str(column_names))\n",
    "    #same code as earlier - open var abbreviations file and check to see if abbreviation already exists\n",
    "    varabbreviations = pd.read_csv(fileDirectory + 'datavar.csv')\n",
    " \n",
    "    for x in column_names:\n",
    "        var_abbrev = ''\n",
    "        file_contains_abb = varabbreviations['File_Variable'] == x\n",
    "    \n",
    "        if(pd.Series(file_contains_abb).any() == False):\n",
    "            new_abbrev = input('No matches found. Please enter new abbreviation for variable name \"' + x + '\" :')\n",
    "            unique_abb = varabbreviations['Database_Variable'] == new_abbrev\n",
    "        \n",
    "            while(pd.Series(unique_abb).any() == True):\n",
    "                print('Sorry, that abbreviation already exists.')\n",
    "                new_abbrev = input('Please enter a new abbreviation for variable name \"' + x + '\" :')\n",
    "                unique_abb = (varabbreviations['Database_Variable'] == new_abbrev)\n",
    "\n",
    "            varabbreviations.loc[(len(varabbreviations.index))] = [(len(varabbreviations.index)),x, new_abbrev]\n",
    "            varabbreviations.to_csv(fileDirectory + 'datavar.csv')\n",
    "            var_abbrev = new_abbrev\n",
    "    \n",
    "        elif(pd.Series(file_contains_abb).any() == True):\n",
    "            true_index_list = list(np.where(file_contains_abb)[0])\n",
    "            file_abbrev_index = int(true_index_list[0])\n",
    "            var_abbrev = varabbreviations.iloc[file_abbrev_index, 2]\n",
    "\n",
    "        #rename columns based on inputted file abbreviation\n",
    "        dfpandas = dfpandas.rename(columns = {x : var_abbrev})\n",
    "    #extract new column names and print\n",
    "    column_names = dfpandas.columns.values.tolist()\n",
    "    print('Updated column names and order:' + str(column_names))"
   ]
  },
  {
   "cell_type": "code",
   "execution_count": 34,
   "metadata": {},
   "outputs": [],
   "source": [
    "date_time = ict.times\n",
    "date_time = pd.DataFrame(date_time, columns= ['datetime'])\n",
    "#potential error: not running fixed version of code below\n",
    "#date_time=pd.to_datetime(date_time, yearfirst = True).apply(lambda x: datetime.strptime(x, '%m/%d/%Y %H:%M:%S'))"
   ]
  },
  {
   "cell_type": "code",
   "execution_count": 2,
   "metadata": {},
   "outputs": [],
   "source": [
    "#MAIN METHOD\n",
    "#set directory\n",
    "fileDirectory = str('c:/Users/cphal/Desktop/NOAA_DATA/')\n",
    "\n",
    "#prompt user to enter campaign name\n",
    "campaign = input('Campaign Name: ')\n",
    "#campaign = 'firexaq'\n",
    "campaign = campaign.upper()\n",
    "\n",
    "#get filenames in folder\n",
    "path = os.chdir(str(fileDirectory + campaign + '/'))\n",
    "folder_files = []\n",
    "with os.scandir(path) as entries:\n",
    "    for entry in entries:\n",
    "        folder_files.append(entry.name)\n",
    "        #FIXME: loop through files\n"
   ]
  },
  {
   "cell_type": "code",
   "execution_count": 9,
   "metadata": {},
   "outputs": [
    {
     "name": "stdout",
     "output_type": "stream",
     "text": [
      "Current column names and order:['Time_mid', 'CNgt3nm_stdPT', 'CNgt6nm_stdPT', 'CNgt20nm_stdPT', 'CNgt20nm_nonvol_stdPT', 'Ngt100nm_LAS_stdPT', 'Ngt100nm_LAS_nonvol_stdPT', 'CCN_034_stdPT', 'N_800to50000nm_CPSPD_stdPT', 'V_800to50000nm_CPSPD_stdPT', 'N_2000to50000nm_CDP_ambPT', 'V_2000to50000nm_CDP_ambPT', 'stdPT']\n",
      "Updated column names and order:['Time_mid', 'CNgt3nm_stdPT', 'CNgt6nm_stdPT', 'CNgt20nm_stdPT', 'CNgt20nm_nonvol_stdPT', 'Ngt100nm_LAS_stdPT', 'Ngt100nm_LAS_nonvol_stdPT', 'CCN_034_stdPT', 'N_800to50000nm_CPSPD_stdPT', 'V_800to50000nm_CPSPD_stdPT', 'N_2000to50000nm_CDP_ambPT', 'V_2000to50000nm_CDP_ambPT', 'stdPT']\n"
     ]
    }
   ],
   "source": [
    "#TO BE INCLUDED IN LOOP\n",
    "#get file name and length\n",
    "filename = str(folder_files[0])\n",
    "file_name_length = len(filename)\n",
    "\n",
    "#get ict file loaded\n",
    "filename_full = fileDirectory + campaign + \"/\" + filename\n",
    "\n",
    "#load ict into pandas df\n",
    "df = utilities.load_file_into_df(filename_full)\n",
    "\n",
    "#check file abbreviation\n",
    "file_abbrev = check_abbreviations(filename, file_name_length, fileDirectory)\n",
    "\n",
    "#check \n",
    "\n",
    "#rename columns based on user input and saved abbreviations\n",
    "rename_columns(fileDirectory, df)"
   ]
  },
  {
   "cell_type": "code",
   "execution_count": 6,
   "metadata": {},
   "outputs": [
    {
     "name": "stdout",
     "output_type": "stream",
     "text": [
      "FXACC\n"
     ]
    }
   ],
   "source": [
    "print(file_abbrev)"
   ]
  }
 ],
 "metadata": {
  "kernelspec": {
   "display_name": "Python 3",
   "language": "python",
   "name": "python3"
  },
  "language_info": {
   "codemirror_mode": {
    "name": "ipython",
    "version": 3
   },
   "file_extension": ".py",
   "mimetype": "text/x-python",
   "name": "python",
   "nbconvert_exporter": "python",
   "pygments_lexer": "ipython3",
   "version": "3.10.7"
  },
  "orig_nbformat": 4,
  "vscode": {
   "interpreter": {
    "hash": "654f528c135dd070c77f913ebef382403b46939e97444d49995b19504ca47e40"
   }
  }
 },
 "nbformat": 4,
 "nbformat_minor": 2
}
