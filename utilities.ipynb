{
 "cells": [
  {
   "cell_type": "code",
   "execution_count": 1,
   "metadata": {},
   "outputs": [],
   "source": [
    "import pandas as pd\n",
    "import numpy as np\n",
    "import icartt"
   ]
  },
  {
   "cell_type": "code",
   "execution_count": 2,
   "metadata": {},
   "outputs": [],
   "source": [
    "#function: checking to see if a value has already been saved to a file\n",
    "#else prompt user to enter new abbreviation\n",
    "#parameters: table_file \n",
    "def check_table(table_file, given_column, given_object, given_value, checking_object, checking_column):\n",
    "    #open table file\n",
    "    table = pd.read_csv(table_file)\n",
    "\n",
    "    #initialize a variable to be the new value\n",
    "    new_val = ''\n",
    "\n",
    "    #check to see if file beginning = current abbreviation\n",
    "    file_contains = table[given_column] == given_value\n",
    "   \n",
    "   \n",
    "    #if there are no matches (only True)\n",
    "    if(pd.Series(file_contains).any() == False):\n",
    "        new_val = input(given_object + ' ' + given_value + ' not found. Please enter a new ' + checking_object + ' for ' + given_object + \" \" + given_value + ' :')\n",
    "        #check to see if that abbreviation already exists\n",
    "        unique = table[checking_column] == new_val\n",
    "        #if so, prompt to enter a new abbreviation until a unique one has been found\n",
    "        while(pd.Series(unique).any() == True):\n",
    "            print('Sorry, that ' + checking_object + ' already exists.')\n",
    "            new_val = input('Please enter a ' + checking_object + 'for ' + given_object + ' ' + given_value + ' :')\n",
    "            unique = table[checking_column] == new_val\n",
    "        #add new row to abbreviations and export abbreviations\n",
    "        table.loc[(len(table.index))] = [given_value, new_val]\n",
    "        table.to_csv(table_file)\n",
    "    #if so (one False), file abbreviation is the one from the csv file\n",
    "    elif(pd.Series(file_contains).any() == True):\n",
    "        true_index_list = list(np.where(file_contains)[0])\n",
    "        index = int(true_index_list[0])\n",
    "        new_val = table.iloc[index, checking_column]\n",
    "\n",
    "    return new_val"
   ]
  },
  {
   "cell_type": "code",
   "execution_count": 3,
   "metadata": {},
   "outputs": [],
   "source": [
    "#function purpose: load file into dataframe given directory, campaign, and file name\n",
    "def load_file_into_df(filename):\n",
    "    #load in ict file to python\n",
    "    ict = icartt.Dataset(filename)\n",
    "\n",
    "    # get all data (NumPy array):\n",
    "    df = ict.data[:]\n",
    "\n",
    "    # list variable names\n",
    "    varnames = [x for x in ict.variables]\n",
    "\n",
    "    #print to pandas dataframe\n",
    "    dfpandas = pd.DataFrame(df, columns = varnames)\n",
    "\n",
    "    #return dataframe\n",
    "    return dfpandas"
   ]
  }
 ],
 "metadata": {
  "kernelspec": {
   "display_name": "Python 3",
   "language": "python",
   "name": "python3"
  },
  "language_info": {
   "codemirror_mode": {
    "name": "ipython",
    "version": 3
   },
   "file_extension": ".py",
   "mimetype": "text/x-python",
   "name": "python",
   "nbconvert_exporter": "python",
   "pygments_lexer": "ipython3",
   "version": "3.10.7"
  },
  "orig_nbformat": 4,
  "vscode": {
   "interpreter": {
    "hash": "654f528c135dd070c77f913ebef382403b46939e97444d49995b19504ca47e40"
   }
  }
 },
 "nbformat": 4,
 "nbformat_minor": 2
}
