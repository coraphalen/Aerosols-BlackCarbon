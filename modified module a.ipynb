{
 "cells": [
  {
   "cell_type": "code",
   "execution_count": 1,
   "metadata": {},
   "outputs": [],
   "source": [
    "#import stuff\n",
    "import os\n",
    "import sys\n",
    "import arrow\n",
    "import numpy as np\n",
    "import pandas as pd\n",
    "from math import pi\n",
    "import matplotlib.pyplot as plt\n",
    "import matplotlib.dates as dates\n",
    "import seaborn as sns\n",
    "from datetime import datetime\n",
    "from numpy import nan_to_num\n",
    "from matplotlib.colors import LogNorm\n",
    "from matplotlib.ticker import ScalarFormatter\n",
    "import icartt"
   ]
  },
  {
   "cell_type": "code",
   "execution_count": 2,
   "metadata": {},
   "outputs": [],
   "source": [
    "filename = 'C:/Users/cphal/Desktop/MAC prediction model/FIREXAQ-LARGE-CDP_DC8_20190722_R0.ict'"
   ]
  },
  {
   "cell_type": "code",
   "execution_count": 3,
   "metadata": {},
   "outputs": [],
   "source": [
    "#open and read file\n",
    "f = open(filename)\n",
    "nextline = f.readline()\n",
    "\n",
    "#FIXME: not sure if this will be true for all files\n",
    "#extract and ignore the data we don't care about\n",
    "while '-9999' not in nextline:\n",
    "    nextline = f.readline()\n",
    "\n",
    "#create list to store description of variables (to extract bin sizes from)\n",
    "bin_size_description = []\n",
    "nextline = f.readline()\n",
    "while len(nextline) > 10:\n",
    "    nextrow = nextline.split(',')\n",
    "    bin_size_description.append(nextrow[3])\n",
    "    nextline = f.readline()\n",
    "\n",
    "#delete the first two ones\n",
    "del bin_size_description[0]\n",
    "del bin_size_description[0]\n",
    "#FIXME: this will not be true for all files\n",
    "\n",
    "#create new list with just the numbers\n",
    "bin_sizes = []\n",
    "for x in range(len(bin_size_description)):\n",
    "    #extract beginning of description\n",
    "    starting_string = 'number_size_distribution_dNdlogD_at_bin_center_'\n",
    "    string_length = len(starting_string) + 1\n",
    "    \n",
    "    #build number and add to list\n",
    "    str1 = bin_size_description[x]\n",
    "    c = str1[string_length]\n",
    "    new_bin_size = ''\n",
    "    while(c != 'u'):\n",
    "        new_bin_size = new_bin_size + c\n",
    "        string_length += 1\n",
    "        c = str1[string_length]\n",
    "    bin_sizes.append(float(new_bin_size))\n",
    "\n",
    "size_dist_diameter_input = pd.DataFrame(bin_sizes)\n",
    "size_dist_diameter_input.columns = ['diameter']\n",
    "    \n",
    "f.close()"
   ]
  },
  {
   "cell_type": "code",
   "execution_count": 78,
   "metadata": {},
   "outputs": [
    {
     "data": {
      "text/plain": [
       "pandas.core.frame.DataFrame"
      ]
     },
     "execution_count": 78,
     "metadata": {},
     "output_type": "execute_result"
    }
   ],
   "source": [
    "type(size_dist_diameter_input)"
   ]
  },
  {
   "cell_type": "code",
   "execution_count": 4,
   "metadata": {},
   "outputs": [],
   "source": [
    "#purpose: import icartt data and convert to dataframe\n",
    "\n",
    "#set directory\n",
    "#fileDirectory = str('c:/Users/cphal/Desktop/NOAA_DATA/')\n",
    "#prompt user to enter campaign name\n",
    "#campaign = input('Campaign Name: ')\n",
    "#campaign = 'firexaq'\n",
    "#campaign = campaign.upper()\n",
    "\n",
    "#get filenames in folder\n",
    "#path = os.chdir(str(fileDirectory + campaign + '/'))\n",
    "#folder_files = []\n",
    "#with os.scandir(path) as entries:\n",
    "    #for entry in entries:\n",
    "        #folder_files.append(entry.name)\n",
    "\n",
    "filename = 'C:/Users/cphal/Desktop/MAC prediction model/FIREXAQ-LARGE-CDP_DC8_20190722_R0.ict'\n",
    "\n",
    "#load in ict file to python\n",
    "ict = icartt.Dataset(filename)\n",
    "df = ict.data[:]\n",
    "varnames = [x for x in ict.variables]\n",
    "df = pd.DataFrame(df, columns = varnames)"
   ]
  },
  {
   "cell_type": "code",
   "execution_count": 5,
   "metadata": {},
   "outputs": [
    {
     "name": "stdout",
     "output_type": "stream",
     "text": [
      "       CDP_Bin00  CDP_Bin01  CDP_Bin02  CDP_Bin03  CDP_Bin04  CDP_Bin05  \\\n",
      "0            NaN        NaN        NaN        NaN        NaN        NaN   \n",
      "1            NaN        NaN        NaN        NaN        NaN        NaN   \n",
      "2            NaN        NaN        NaN        NaN        NaN        NaN   \n",
      "3            NaN        NaN        NaN        NaN        NaN        NaN   \n",
      "4            NaN        NaN        NaN        NaN        NaN        NaN   \n",
      "...          ...        ...        ...        ...        ...        ...   \n",
      "24741   0.043059        0.0   0.000000   0.000000   0.000000        0.0   \n",
      "24742   0.000000        0.0   0.000000   0.000000   0.000000        0.0   \n",
      "24743   0.000000        0.0   0.454437   0.556186   0.000000        0.0   \n",
      "24744   0.045596        0.0   0.000000   0.000000   0.000000        0.0   \n",
      "24745   0.000000        0.0   0.492248   0.000000   0.712563        0.0   \n",
      "\n",
      "       CDP_Bin06  CDP_Bin07  CDP_Bin08  CDP_Bin09  ...  CDP_Bin20  CDP_Bin21  \\\n",
      "0            NaN        NaN        NaN        NaN  ...        NaN        NaN   \n",
      "1            NaN        NaN        NaN        NaN  ...        NaN        NaN   \n",
      "2            NaN        NaN        NaN        NaN  ...        NaN        NaN   \n",
      "3            NaN        NaN        NaN        NaN  ...        NaN        NaN   \n",
      "4            NaN        NaN        NaN        NaN  ...        NaN        NaN   \n",
      "...          ...        ...        ...        ...  ...        ...        ...   \n",
      "24741        0.0        0.0        0.0        0.0  ...        0.0        0.0   \n",
      "24742        0.0        0.0        0.0        0.0  ...        0.0        0.0   \n",
      "24743        0.0        0.0        0.0        0.0  ...        0.0        0.0   \n",
      "24744        0.0        0.0        0.0        0.0  ...        0.0        0.0   \n",
      "24745        0.0        0.0        0.0        0.0  ...        0.0        0.0   \n",
      "\n",
      "       CDP_Bin22  CDP_Bin23  CDP_Bin24  CDP_Bin25  CDP_Bin26  CDP_Bin27  \\\n",
      "0            NaN        NaN        NaN        NaN        NaN        NaN   \n",
      "1            NaN        NaN        NaN        NaN        NaN        NaN   \n",
      "2            NaN        NaN        NaN        NaN        NaN        NaN   \n",
      "3            NaN        NaN        NaN        NaN        NaN        NaN   \n",
      "4            NaN        NaN        NaN        NaN        NaN        NaN   \n",
      "...          ...        ...        ...        ...        ...        ...   \n",
      "24741        0.0        0.0        0.0        0.0        0.0        0.0   \n",
      "24742        0.0        0.0        0.0        0.0        0.0        0.0   \n",
      "24743        0.0        0.0        0.0        0.0        0.0        0.0   \n",
      "24744        0.0        0.0        0.0        0.0        0.0        0.0   \n",
      "24745        0.0        0.0        0.0        0.0        0.0        0.0   \n",
      "\n",
      "       CDP_Bin28  CDP_Bin29  \n",
      "0            NaN        NaN  \n",
      "1            NaN        NaN  \n",
      "2            NaN        NaN  \n",
      "3            NaN        NaN  \n",
      "4            NaN        NaN  \n",
      "...          ...        ...  \n",
      "24741        0.0        0.0  \n",
      "24742        0.0        0.0  \n",
      "24743        0.0        0.0  \n",
      "24744        0.0        0.0  \n",
      "24745        0.0        0.0  \n",
      "\n",
      "[24746 rows x 30 columns]\n"
     ]
    }
   ],
   "source": [
    "#put first column into datetime file; next two columns are nCDP and vCDP\n",
    "#last columns are the bins - size_dist_input\n",
    "\n",
    "#time after midnight from dataframe - may not be needed\n",
    "#datetime = df['Time_mid']\n",
    "totalCDP = df[['nCDP','vCDP']]\n",
    "\n",
    "binnames = varnames[3:len(varnames)]\n",
    "size_dist_input = df[binnames]\n",
    "print(size_dist_input)\n"
   ]
  },
  {
   "cell_type": "code",
   "execution_count": 6,
   "metadata": {},
   "outputs": [],
   "source": [
    "#Implement Module A (w/o merge) (these are the dividing lines)\n",
    "d_N1 = int(50)\n",
    "d_N2 = int(200)\n",
    "d_V1 = int(1000)\n",
    "d_V2 = int(2500)"
   ]
  },
  {
   "cell_type": "code",
   "execution_count": 7,
   "metadata": {},
   "outputs": [
    {
     "name": "stdout",
     "output_type": "stream",
     "text": [
      "['2019-07-22T18:15:40.000000000' '2019-07-22T18:15:41.000000000'\n",
      " '2019-07-22T18:15:42.000000000' ... '2019-07-23T01:08:03.000000000'\n",
      " '2019-07-23T01:08:04.000000000' '2019-07-23T01:08:05.000000000']\n",
      "<class 'str'>\n"
     ]
    }
   ],
   "source": [
    "date_time = ict.times\n",
    "datetimedf = pd.DataFrame(date_time, columns= ['datetime'])\n",
    "print(date_time)\n",
    "num1 = str(date_time[0])\n",
    "print(type(num1))\n",
    "dateparse = lambda x: datetime.strptime(x, '%Y-%m-%dT%H:%M:%S.000000000')"
   ]
  },
  {
   "cell_type": "code",
   "execution_count": 8,
   "metadata": {},
   "outputs": [],
   "source": [
    "#FIX: improve efficiency\n",
    "size_dist_volume = pd.DataFrame().reindex_like(size_dist_input)\n",
    "for m in range(np.size(size_dist_volume,0)):\n",
    "    for n in range(len(size_dist_diameter_input)):\n",
    "        #calculation for aerosol volume distribution - based on aerosol size distribution\n",
    "        size_dist_volume.values[m,n]=pi/6* np.power(size_dist_diameter_input, 3).values[n]*size_dist_input.values[m,n]"
   ]
  },
  {
   "cell_type": "code",
   "execution_count": 73,
   "metadata": {},
   "outputs": [
    {
     "name": "stdout",
     "output_type": "stream",
     "text": [
      "       CDP_Bin00  CDP_Bin01  CDP_Bin02  CDP_Bin03   CDP_Bin04  CDP_Bin05  \\\n",
      "0            NaN        NaN        NaN        NaN         NaN        NaN   \n",
      "1            NaN        NaN        NaN        NaN         NaN        NaN   \n",
      "2            NaN        NaN        NaN        NaN         NaN        NaN   \n",
      "3            NaN        NaN        NaN        NaN         NaN        NaN   \n",
      "4            NaN        NaN        NaN        NaN         NaN        NaN   \n",
      "...          ...        ...        ...        ...         ...        ...   \n",
      "24741   0.352279        0.0   0.000000    0.00000    0.000000        0.0   \n",
      "24742   0.000000        0.0   0.000000    0.00000    0.000000        0.0   \n",
      "24743   0.000000        0.0  21.682515   48.45142    0.000000        0.0   \n",
      "24744   0.373032        0.0   0.000000    0.00000    0.000000        0.0   \n",
      "24745   0.000000        0.0  23.486603    0.00000  102.461738        0.0   \n",
      "\n",
      "       CDP_Bin06  CDP_Bin07  CDP_Bin08  CDP_Bin09  ...  CDP_Bin20  CDP_Bin21  \\\n",
      "0            NaN        NaN        NaN        NaN  ...        NaN        NaN   \n",
      "1            NaN        NaN        NaN        NaN  ...        NaN        NaN   \n",
      "2            NaN        NaN        NaN        NaN  ...        NaN        NaN   \n",
      "3            NaN        NaN        NaN        NaN  ...        NaN        NaN   \n",
      "4            NaN        NaN        NaN        NaN  ...        NaN        NaN   \n",
      "...          ...        ...        ...        ...  ...        ...        ...   \n",
      "24741        0.0        0.0        0.0        0.0  ...        0.0        0.0   \n",
      "24742        0.0        0.0        0.0        0.0  ...        0.0        0.0   \n",
      "24743        0.0        0.0        0.0        0.0  ...        0.0        0.0   \n",
      "24744        0.0        0.0        0.0        0.0  ...        0.0        0.0   \n",
      "24745        0.0        0.0        0.0        0.0  ...        0.0        0.0   \n",
      "\n",
      "       CDP_Bin22  CDP_Bin23  CDP_Bin24  CDP_Bin25  CDP_Bin26  CDP_Bin27  \\\n",
      "0            NaN        NaN        NaN        NaN        NaN        NaN   \n",
      "1            NaN        NaN        NaN        NaN        NaN        NaN   \n",
      "2            NaN        NaN        NaN        NaN        NaN        NaN   \n",
      "3            NaN        NaN        NaN        NaN        NaN        NaN   \n",
      "4            NaN        NaN        NaN        NaN        NaN        NaN   \n",
      "...          ...        ...        ...        ...        ...        ...   \n",
      "24741        0.0        0.0        0.0        0.0        0.0        0.0   \n",
      "24742        0.0        0.0        0.0        0.0        0.0        0.0   \n",
      "24743        0.0        0.0        0.0        0.0        0.0        0.0   \n",
      "24744        0.0        0.0        0.0        0.0        0.0        0.0   \n",
      "24745        0.0        0.0        0.0        0.0        0.0        0.0   \n",
      "\n",
      "       CDP_Bin28  CDP_Bin29  \n",
      "0            NaN        NaN  \n",
      "1            NaN        NaN  \n",
      "2            NaN        NaN  \n",
      "3            NaN        NaN  \n",
      "4            NaN        NaN  \n",
      "...          ...        ...  \n",
      "24741        0.0        0.0  \n",
      "24742        0.0        0.0  \n",
      "24743        0.0        0.0  \n",
      "24744        0.0        0.0  \n",
      "24745        0.0        0.0  \n",
      "\n",
      "[24746 rows x 30 columns]\n"
     ]
    }
   ],
   "source": [
    "#print(size_dist_volume.values[1800,1])\n",
    "print(size_dist_volume)"
   ]
  },
  {
   "cell_type": "code",
   "execution_count": 19,
   "metadata": {},
   "outputs": [
    {
     "name": "stdout",
     "output_type": "stream",
     "text": [
      "    diameter\n",
      "0   0.916291\n",
      "1   1.252763\n",
      "2   1.504077\n",
      "3   1.704748\n",
      "4   1.871802\n",
      "5   2.014903\n",
      "6   2.140066\n",
      "7   2.251292\n",
      "8   2.351375\n",
      "9   2.442347\n",
      "10  2.525729\n",
      "11  2.602690\n",
      "12  2.708050\n",
      "13  2.833213\n",
      "14  2.944439\n",
      "15  3.044522\n",
      "16  3.135494\n",
      "17  3.218876\n",
      "18  3.295837\n",
      "19  3.367296\n",
      "20  3.433987\n",
      "21  3.496508\n",
      "22  3.555348\n",
      "23  3.610918\n",
      "24  3.663562\n",
      "25  3.713572\n",
      "26  3.761200\n",
      "27  3.806662\n",
      "28  3.850148\n",
      "29  3.891820\n"
     ]
    },
    {
     "name": "stderr",
     "output_type": "stream",
     "text": [
      "C:\\Users\\cphal\\AppData\\Local\\Temp\\ipykernel_16236\\1251108476.py:9: SettingWithCopyWarning: \n",
      "A value is trying to be set on a copy of a slice from a DataFrame.\n",
      "Try using .loc[row_indexer,col_indexer] = value instead\n",
      "\n",
      "See the caveats in the documentation: https://pandas.pydata.org/pandas-docs/stable/user_guide/indexing.html#returning-a-view-versus-a-copy\n",
      "  size_dist_input[np.isnan(size_dist_input)] = 0\n",
      "C:\\Users\\cphal\\AppData\\Local\\Temp\\ipykernel_16236\\1251108476.py:9: SettingWithCopyWarning: \n",
      "A value is trying to be set on a copy of a slice from a DataFrame\n",
      "\n",
      "See the caveats in the documentation: https://pandas.pydata.org/pandas-docs/stable/user_guide/indexing.html#returning-a-view-versus-a-copy\n",
      "  size_dist_input[np.isnan(size_dist_input)] = 0\n"
     ]
    }
   ],
   "source": [
    "N1 = np.zeros(np.size(size_dist_input,0)); N2 = np.zeros(np.size(size_dist_input,0)); N3 = np.zeros(np.size(size_dist_input,0))\n",
    "F_N1 = np.zeros(np.size(size_dist_input,0)); F_N2 = np.zeros(np.size(size_dist_input,0)); F_N3 = np.zeros(np.size(size_dist_input,0))   \n",
    "areaXY_number = np.zeros(np.size(size_dist_input,0))  \n",
    "V1 = np.zeros(np.size(size_dist_input,0)); V2 = np.zeros(np.size(size_dist_input,0)); V3 = np.zeros(np.size(size_dist_input,0))\n",
    "F_V1 = np.zeros(np.size(size_dist_input,0)); F_V2 = np.zeros(np.size(size_dist_input,0)); F_V3 = np.zeros(np.size(size_dist_input,0))   \n",
    "areaXY_volume = np.zeros(np.size(size_dist_input,0))\n",
    "\n",
    "# prepare for trapz calculation\n",
    "size_dist_input[np.isnan(size_dist_input)] = 0 \n",
    "size_dist_volume[np.isnan(size_dist_volume)] = 0 \n",
    "\n",
    "ln_size_dist_diameter_input=np.log(size_dist_diameter_input)\n",
    "print(ln_size_dist_diameter_input)"
   ]
  },
  {
   "cell_type": "code",
   "execution_count": 16,
   "metadata": {},
   "outputs": [
    {
     "name": "stdout",
     "output_type": "stream",
     "text": [
      "       CDP_Bin00  CDP_Bin01  CDP_Bin02  CDP_Bin03  CDP_Bin04  CDP_Bin05  \\\n",
      "0       0.000000        0.0   0.000000   0.000000   0.000000        0.0   \n",
      "1       0.000000        0.0   0.000000   0.000000   0.000000        0.0   \n",
      "2       0.000000        0.0   0.000000   0.000000   0.000000        0.0   \n",
      "3       0.000000        0.0   0.000000   0.000000   0.000000        0.0   \n",
      "4       0.000000        0.0   0.000000   0.000000   0.000000        0.0   \n",
      "...          ...        ...        ...        ...        ...        ...   \n",
      "24741   0.043059        0.0   0.000000   0.000000   0.000000        0.0   \n",
      "24742   0.000000        0.0   0.000000   0.000000   0.000000        0.0   \n",
      "24743   0.000000        0.0   0.454437   0.556186   0.000000        0.0   \n",
      "24744   0.045596        0.0   0.000000   0.000000   0.000000        0.0   \n",
      "24745   0.000000        0.0   0.492248   0.000000   0.712563        0.0   \n",
      "\n",
      "       CDP_Bin06  CDP_Bin07  CDP_Bin08  CDP_Bin09  ...  CDP_Bin20  CDP_Bin21  \\\n",
      "0            0.0        0.0        0.0        0.0  ...        0.0        0.0   \n",
      "1            0.0        0.0        0.0        0.0  ...        0.0        0.0   \n",
      "2            0.0        0.0        0.0        0.0  ...        0.0        0.0   \n",
      "3            0.0        0.0        0.0        0.0  ...        0.0        0.0   \n",
      "4            0.0        0.0        0.0        0.0  ...        0.0        0.0   \n",
      "...          ...        ...        ...        ...  ...        ...        ...   \n",
      "24741        0.0        0.0        0.0        0.0  ...        0.0        0.0   \n",
      "24742        0.0        0.0        0.0        0.0  ...        0.0        0.0   \n",
      "24743        0.0        0.0        0.0        0.0  ...        0.0        0.0   \n",
      "24744        0.0        0.0        0.0        0.0  ...        0.0        0.0   \n",
      "24745        0.0        0.0        0.0        0.0  ...        0.0        0.0   \n",
      "\n",
      "       CDP_Bin22  CDP_Bin23  CDP_Bin24  CDP_Bin25  CDP_Bin26  CDP_Bin27  \\\n",
      "0            0.0        0.0        0.0        0.0        0.0        0.0   \n",
      "1            0.0        0.0        0.0        0.0        0.0        0.0   \n",
      "2            0.0        0.0        0.0        0.0        0.0        0.0   \n",
      "3            0.0        0.0        0.0        0.0        0.0        0.0   \n",
      "4            0.0        0.0        0.0        0.0        0.0        0.0   \n",
      "...          ...        ...        ...        ...        ...        ...   \n",
      "24741        0.0        0.0        0.0        0.0        0.0        0.0   \n",
      "24742        0.0        0.0        0.0        0.0        0.0        0.0   \n",
      "24743        0.0        0.0        0.0        0.0        0.0        0.0   \n",
      "24744        0.0        0.0        0.0        0.0        0.0        0.0   \n",
      "24745        0.0        0.0        0.0        0.0        0.0        0.0   \n",
      "\n",
      "       CDP_Bin28  CDP_Bin29  \n",
      "0            0.0        0.0  \n",
      "1            0.0        0.0  \n",
      "2            0.0        0.0  \n",
      "3            0.0        0.0  \n",
      "4            0.0        0.0  \n",
      "...          ...        ...  \n",
      "24741        0.0        0.0  \n",
      "24742        0.0        0.0  \n",
      "24743        0.0        0.0  \n",
      "24744        0.0        0.0  \n",
      "24745        0.0        0.0  \n",
      "\n",
      "[24746 rows x 30 columns]\n"
     ]
    }
   ],
   "source": [
    "print(size_dist_input)"
   ]
  },
  {
   "cell_type": "code",
   "execution_count": 17,
   "metadata": {},
   "outputs": [],
   "source": [
    " #function purpose: find nearest value (d_N1, d_N2, d_V1, d_V2) in numpy array (instrument measured diameters)\n",
    "def find_nearest(array, value):\n",
    "    n = [abs(i-value) for i in array]\n",
    "    idx = n.index(min(n))\n",
    "    return idx"
   ]
  },
  {
   "cell_type": "code",
   "execution_count": 21,
   "metadata": {},
   "outputs": [
    {
     "ename": "NameError",
     "evalue": "name 'shape' is not defined",
     "output_type": "error",
     "traceback": [
      "\u001b[1;31m---------------------------------------------------------------------------\u001b[0m",
      "\u001b[1;31mNameError\u001b[0m                                 Traceback (most recent call last)",
      "Cell \u001b[1;32mIn [21], line 1\u001b[0m\n\u001b[1;32m----> 1\u001b[0m \u001b[39mprint\u001b[39m(shape(size_dist_diameter_input))\n\u001b[0;32m      2\u001b[0m \u001b[39mprint\u001b[39m(shape(size_dist_input\u001b[39m.\u001b[39mvalues))\n\u001b[0;32m      3\u001b[0m m\u001b[39m=\u001b[39m\u001b[39m0\u001b[39m\n",
      "\u001b[1;31mNameError\u001b[0m: name 'shape' is not defined"
     ]
    }
   ],
   "source": [
    "print(shape(size_dist_diameter_input))\n",
    "print(shape(size_dist_input.values))\n",
    "m=0\n",
    "#areaXY_number[m] = np.trapz(size_dist_input.values[:,m], x=ln_size_dist_diameter_input)"
   ]
  },
  {
   "cell_type": "code",
   "execution_count": 18,
   "metadata": {},
   "outputs": [
    {
     "ename": "ValueError",
     "evalue": "operands could not be broadcast together with shapes (30,0) (29,) ",
     "output_type": "error",
     "traceback": [
      "\u001b[1;31m---------------------------------------------------------------------------\u001b[0m",
      "\u001b[1;31mValueError\u001b[0m                                Traceback (most recent call last)",
      "File \u001b[1;32mc:\\Users\\cphal\\AppData\\Local\\Programs\\Python\\Python310\\lib\\site-packages\\numpy\\lib\\function_base.py:4832\u001b[0m, in \u001b[0;36mtrapz\u001b[1;34m(y, x, dx, axis)\u001b[0m\n\u001b[0;32m   4831\u001b[0m \u001b[39mtry\u001b[39;00m:\n\u001b[1;32m-> 4832\u001b[0m     ret \u001b[39m=\u001b[39m (d \u001b[39m*\u001b[39;49m (y[\u001b[39mtuple\u001b[39;49m(slice1)] \u001b[39m+\u001b[39;49m y[\u001b[39mtuple\u001b[39;49m(slice2)]) \u001b[39m/\u001b[39m \u001b[39m2.0\u001b[39m)\u001b[39m.\u001b[39msum(axis)\n\u001b[0;32m   4833\u001b[0m \u001b[39mexcept\u001b[39;00m \u001b[39mValueError\u001b[39;00m:\n\u001b[0;32m   4834\u001b[0m     \u001b[39m# Operations didn't work, cast to ndarray\u001b[39;00m\n",
      "\u001b[1;31mValueError\u001b[0m: operands could not be broadcast together with shapes (30,0) (29,) ",
      "\nDuring handling of the above exception, another exception occurred:\n",
      "\u001b[1;31mValueError\u001b[0m                                Traceback (most recent call last)",
      "Cell \u001b[1;32mIn [18], line 7\u001b[0m\n\u001b[0;32m      5\u001b[0m d_V1_nearest \u001b[39m=\u001b[39m find_nearest(size_dist_diameter_input[\u001b[39m'\u001b[39m\u001b[39mdiameter\u001b[39m\u001b[39m'\u001b[39m],d_V1)\n\u001b[0;32m      6\u001b[0m d_V2_nearest \u001b[39m=\u001b[39m find_nearest(size_dist_diameter_input[\u001b[39m'\u001b[39m\u001b[39mdiameter\u001b[39m\u001b[39m'\u001b[39m],d_V2)\n\u001b[1;32m----> 7\u001b[0m areaXY_number[m] \u001b[39m=\u001b[39m np\u001b[39m.\u001b[39;49mtrapz(size_dist_input\u001b[39m.\u001b[39;49mvalues[m,:], x\u001b[39m=\u001b[39;49mln_size_dist_diameter_input)\n\u001b[0;32m      8\u001b[0m N1[m] \u001b[39m=\u001b[39m np\u001b[39m.\u001b[39mtrapz(size_dist_input\u001b[39m.\u001b[39mvalues[m,\u001b[39m0\u001b[39m:d_N1_nearest], x\u001b[39m=\u001b[39mln_size_dist_diameter_input[\u001b[39m0\u001b[39m:d_N1_nearest])\n\u001b[0;32m      9\u001b[0m N2[m] \u001b[39m=\u001b[39m np\u001b[39m.\u001b[39mtrapz(size_dist_input\u001b[39m.\u001b[39mvalues[m,d_N1_nearest\u001b[39m+\u001b[39m\u001b[39m1\u001b[39m:d_N2_nearest], x\u001b[39m=\u001b[39mln_size_dist_diameter_input[d_N1_nearest\u001b[39m+\u001b[39m\u001b[39m1\u001b[39m:d_N2_nearest])    \n",
      "File \u001b[1;32m<__array_function__ internals>:180\u001b[0m, in \u001b[0;36mtrapz\u001b[1;34m(*args, **kwargs)\u001b[0m\n",
      "File \u001b[1;32mc:\\Users\\cphal\\AppData\\Local\\Programs\\Python\\Python310\\lib\\site-packages\\numpy\\lib\\function_base.py:4837\u001b[0m, in \u001b[0;36mtrapz\u001b[1;34m(y, x, dx, axis)\u001b[0m\n\u001b[0;32m   4835\u001b[0m     d \u001b[39m=\u001b[39m np\u001b[39m.\u001b[39masarray(d)\n\u001b[0;32m   4836\u001b[0m     y \u001b[39m=\u001b[39m np\u001b[39m.\u001b[39masarray(y)\n\u001b[1;32m-> 4837\u001b[0m     ret \u001b[39m=\u001b[39m add\u001b[39m.\u001b[39mreduce(d \u001b[39m*\u001b[39;49m (y[\u001b[39mtuple\u001b[39;49m(slice1)]\u001b[39m+\u001b[39;49my[\u001b[39mtuple\u001b[39;49m(slice2)])\u001b[39m/\u001b[39m\u001b[39m2.0\u001b[39m, axis)\n\u001b[0;32m   4838\u001b[0m \u001b[39mreturn\u001b[39;00m ret\n",
      "\u001b[1;31mValueError\u001b[0m: operands could not be broadcast together with shapes (30,0) (29,) "
     ]
    }
   ],
   "source": [
    "for m in range(np.size(size_dist_input,0)):\n",
    "\n",
    "        d_N1_nearest = find_nearest(size_dist_diameter_input['diameter'],d_N1)\n",
    "        d_N2_nearest = find_nearest(size_dist_diameter_input['diameter'],d_N2)\n",
    "        d_V1_nearest = find_nearest(size_dist_diameter_input['diameter'],d_V1)\n",
    "        d_V2_nearest = find_nearest(size_dist_diameter_input['diameter'],d_V2)\n",
    "        areaXY_number[m] = np.trapz(size_dist_input.values[m,0:size_dist_input], x=ln_size_dist_diameter_input)\n",
    "        N1[m] = np.trapz(size_dist_input.values[m,0:d_N1_nearest], x=ln_size_dist_diameter_input[0:d_N1_nearest])\n",
    "        N2[m] = np.trapz(size_dist_input.values[m,d_N1_nearest+1:d_N2_nearest], x=ln_size_dist_diameter_input[d_N1_nearest+1:d_N2_nearest])    \n",
    "        N3[m] = np.trapz(size_dist_input.values[m,d_N2_nearest+1:], x=ln_size_dist_diameter_input[d_N2_nearest+1:])\n",
    "        F_N1[m] = N1[m]/areaXY_number[m]\n",
    "        F_N2[m] = N2[m]/areaXY_number[m]       \n",
    "        F_N3[m] = N3[m]/areaXY_number[m]\n",
    "\n",
    "        areaXY_volume[m] = np.trapz(size_dist_volume.values[m,:], x=ln_size_dist_diameter_input)\n",
    "        V1[m] = np.trapz(size_dist_volume.values[m,0:d_V1_nearest], x=ln_size_dist_diameter_input[0:d_V1_nearest])\n",
    "        V2[m] = np.trapz(size_dist_volume.values[m,d_V1_nearest+1:d_V2_nearest], x=ln_size_dist_diameter_input[d_V1_nearest+1:d_V2_nearest])    \n",
    "        V3[m] = np.trapz(size_dist_volume.values[m,d_V2_nearest+1:], x=ln_size_dist_diameter_input[d_V2_nearest+1:])\n",
    "        F_V1[m] = V1[m]/areaXY_volume[m]\n",
    "        F_V2[m] = V2[m]/areaXY_volume[m]       \n",
    "        F_V3[m] = V3[m]/areaXY_volume[m]"
   ]
  },
  {
   "cell_type": "code",
   "execution_count": 92,
   "metadata": {},
   "outputs": [
    {
     "ename": "KeyError",
     "evalue": "29",
     "output_type": "error",
     "traceback": [
      "\u001b[1;31m---------------------------------------------------------------------------\u001b[0m",
      "\u001b[1;31mKeyError\u001b[0m                                  Traceback (most recent call last)",
      "File \u001b[1;32mc:\\Users\\cphal\\AppData\\Local\\Programs\\Python\\Python310\\lib\\site-packages\\pandas\\core\\indexes\\base.py:3803\u001b[0m, in \u001b[0;36mIndex.get_loc\u001b[1;34m(self, key, method, tolerance)\u001b[0m\n\u001b[0;32m   3802\u001b[0m \u001b[39mtry\u001b[39;00m:\n\u001b[1;32m-> 3803\u001b[0m     \u001b[39mreturn\u001b[39;00m \u001b[39mself\u001b[39;49m\u001b[39m.\u001b[39;49m_engine\u001b[39m.\u001b[39;49mget_loc(casted_key)\n\u001b[0;32m   3804\u001b[0m \u001b[39mexcept\u001b[39;00m \u001b[39mKeyError\u001b[39;00m \u001b[39mas\u001b[39;00m err:\n",
      "File \u001b[1;32mc:\\Users\\cphal\\AppData\\Local\\Programs\\Python\\Python310\\lib\\site-packages\\pandas\\_libs\\index.pyx:138\u001b[0m, in \u001b[0;36mpandas._libs.index.IndexEngine.get_loc\u001b[1;34m()\u001b[0m\n",
      "File \u001b[1;32mc:\\Users\\cphal\\AppData\\Local\\Programs\\Python\\Python310\\lib\\site-packages\\pandas\\_libs\\index.pyx:165\u001b[0m, in \u001b[0;36mpandas._libs.index.IndexEngine.get_loc\u001b[1;34m()\u001b[0m\n",
      "File \u001b[1;32mpandas\\_libs\\hashtable_class_helper.pxi:5745\u001b[0m, in \u001b[0;36mpandas._libs.hashtable.PyObjectHashTable.get_item\u001b[1;34m()\u001b[0m\n",
      "File \u001b[1;32mpandas\\_libs\\hashtable_class_helper.pxi:5753\u001b[0m, in \u001b[0;36mpandas._libs.hashtable.PyObjectHashTable.get_item\u001b[1;34m()\u001b[0m\n",
      "\u001b[1;31mKeyError\u001b[0m: 29",
      "\nThe above exception was the direct cause of the following exception:\n",
      "\u001b[1;31mKeyError\u001b[0m                                  Traceback (most recent call last)",
      "Cell \u001b[1;32mIn [92], line 2\u001b[0m\n\u001b[0;32m      1\u001b[0m \u001b[39m# If the selected size classes are broader than the measured aerosol sizes \u001b[39;00m\n\u001b[1;32m----> 2\u001b[0m \u001b[39mprint\u001b[39m (d_N1,d_N2,d_V1,d_V2,size_dist_diameter_input[\u001b[39mlen\u001b[39;49m(size_dist_diameter_input)\u001b[39m-\u001b[39;49m\u001b[39m1\u001b[39;49m])\n\u001b[0;32m      3\u001b[0m \u001b[39mif\u001b[39;00m (d_N1 \u001b[39m<\u001b[39m size_dist_diameter_input[\u001b[39m0\u001b[39m]):  \u001b[39m#only large particles is available\u001b[39;00m\n\u001b[0;32m      4\u001b[0m     N1\u001b[39m=\u001b[39m\u001b[39m0\u001b[39m; F_N1\u001b[39m=\u001b[39m\u001b[39m0\u001b[39m  \n",
      "File \u001b[1;32mc:\\Users\\cphal\\AppData\\Local\\Programs\\Python\\Python310\\lib\\site-packages\\pandas\\core\\frame.py:3804\u001b[0m, in \u001b[0;36mDataFrame.__getitem__\u001b[1;34m(self, key)\u001b[0m\n\u001b[0;32m   3802\u001b[0m \u001b[39mif\u001b[39;00m \u001b[39mself\u001b[39m\u001b[39m.\u001b[39mcolumns\u001b[39m.\u001b[39mnlevels \u001b[39m>\u001b[39m \u001b[39m1\u001b[39m:\n\u001b[0;32m   3803\u001b[0m     \u001b[39mreturn\u001b[39;00m \u001b[39mself\u001b[39m\u001b[39m.\u001b[39m_getitem_multilevel(key)\n\u001b[1;32m-> 3804\u001b[0m indexer \u001b[39m=\u001b[39m \u001b[39mself\u001b[39;49m\u001b[39m.\u001b[39;49mcolumns\u001b[39m.\u001b[39;49mget_loc(key)\n\u001b[0;32m   3805\u001b[0m \u001b[39mif\u001b[39;00m is_integer(indexer):\n\u001b[0;32m   3806\u001b[0m     indexer \u001b[39m=\u001b[39m [indexer]\n",
      "File \u001b[1;32mc:\\Users\\cphal\\AppData\\Local\\Programs\\Python\\Python310\\lib\\site-packages\\pandas\\core\\indexes\\base.py:3805\u001b[0m, in \u001b[0;36mIndex.get_loc\u001b[1;34m(self, key, method, tolerance)\u001b[0m\n\u001b[0;32m   3803\u001b[0m     \u001b[39mreturn\u001b[39;00m \u001b[39mself\u001b[39m\u001b[39m.\u001b[39m_engine\u001b[39m.\u001b[39mget_loc(casted_key)\n\u001b[0;32m   3804\u001b[0m \u001b[39mexcept\u001b[39;00m \u001b[39mKeyError\u001b[39;00m \u001b[39mas\u001b[39;00m err:\n\u001b[1;32m-> 3805\u001b[0m     \u001b[39mraise\u001b[39;00m \u001b[39mKeyError\u001b[39;00m(key) \u001b[39mfrom\u001b[39;00m \u001b[39merr\u001b[39;00m\n\u001b[0;32m   3806\u001b[0m \u001b[39mexcept\u001b[39;00m \u001b[39mTypeError\u001b[39;00m:\n\u001b[0;32m   3807\u001b[0m     \u001b[39m# If we have a listlike key, _check_indexing_error will raise\u001b[39;00m\n\u001b[0;32m   3808\u001b[0m     \u001b[39m#  InvalidIndexError. Otherwise we fall through and re-raise\u001b[39;00m\n\u001b[0;32m   3809\u001b[0m     \u001b[39m#  the TypeError.\u001b[39;00m\n\u001b[0;32m   3810\u001b[0m     \u001b[39mself\u001b[39m\u001b[39m.\u001b[39m_check_indexing_error(key)\n",
      "\u001b[1;31mKeyError\u001b[0m: 29"
     ]
    }
   ],
   "source": [
    "# If the selected size classes are broader than the measured aerosol sizes \n",
    "print (d_N1,d_N2,d_V1,d_V2,size_dist_diameter_input[len(size_dist_diameter_input)-1])\n",
    "if (d_N1 < size_dist_diameter_input[0]):  #only large particles is available\n",
    "    N1=0; F_N1=0  \n",
    "if (d_N2 > size_dist_diameter_input[len(size_dist_diameter_input)-1]):  #only small particles is available\n",
    "    N3=0; F_N3=0\n",
    "if (d_V1 < size_dist_diameter_input[0]):\n",
    "    V1=0; F_V1=0\n",
    "if (d_V2 > size_dist_diameter_input[len(size_dist_diameter_input)-1]):\n",
    "    V3=0; F_V=0\n",
    "\n",
    "delta_days= arrow.get(datetime.dt.date[len(datetime.dt.date)-1])-arrow.get(datetime.dt.date[0])\n",
    "delta_days=delta_days.days+1\n",
    "delta_hourly=delta_days*24"
   ]
  },
  {
   "cell_type": "code",
   "execution_count": 13,
   "metadata": {},
   "outputs": [],
   "source": [
    "#calculate hourly averaged concentration\n",
    "N1_hourly=np.zeros(delta_hourly); N2_hourly=np.zeros(delta_hourly); N3_hourly=np.zeros(delta_hourly)\n",
    "areaXY_number_hourly=np.zeros(delta_hourly)\n",
    "F_N1_hourly=np.zeros(delta_hourly); F_N2_hourly=np.zeros(delta_hourly); F_N3_hourly=np.zeros(delta_hourly)\n",
    "V1_hourly=np.zeros(delta_hourly); V2_hourly=np.zeros(delta_hourly); V3_hourly=np.zeros(delta_hourly)\n",
    "areaXY_volume_hourly=np.zeros(delta_hourly)\n",
    "F_V1_hourly=np.zeros(delta_hourly); F_V2_hourly=np.zeros(delta_hourly); F_V3_hourly=np.zeros(delta_hourly)\n",
    "datetime_hourly=np.zeros(delta_hourly, dtype='datetime64[s]')"
   ]
  },
  {
   "cell_type": "code",
   "execution_count": 15,
   "metadata": {},
   "outputs": [],
   "source": [
    "m=0\n",
    "for i  in range(delta_hourly):\n",
    "        areaXY_number_hourly[m] = np.nanmean(areaXY_number[i*12:(i+1)*12])  \n",
    "        N1_hourly [m] = np.nanmean(N1[i*12:(i+1)*12])  \n",
    "        N2_hourly [m] = np.nanmean(N2[i*12:(i+1)*12])  \n",
    "        N3_hourly [m] = areaXY_number_hourly[m]- N1_hourly [m] -N2_hourly [m] #make sure N1_hourly + N2_hourly + N3_hourly = areaXY_hourly\n",
    "        F_N1_hourly [m] = np.nanmean(F_N1[i*12:(i+1)*12])  \n",
    "        F_N2_hourly [m] = np.nanmean(F_N2[i*12:(i+1)*12])  \n",
    "        F_N3_hourly [m] = 1-F_N1_hourly [m]-F_N2_hourly [m] #make sure F_N1_hourly + F_N2_hourly + F_N3_hourly = 1\n",
    "        areaXY_volume_hourly[m] = np.nanmean(areaXY_volume[i*12:(i+1)*12])  \n",
    "        V1_hourly [m] = np.nanmean(V1[i*12:(i+1)*12])  \n",
    "        V2_hourly [m] = np.nanmean(V2[i*12:(i+1)*12])  \n",
    "        V3_hourly [m] = areaXY_volume_hourly[m]- V1_hourly [m] -V2_hourly [m] #make sure N1_hourly + N2_hourly + N3_hourly = areaXY_hourly\n",
    "        F_V1_hourly [m] = np.nanmean(F_V1[i*12:(i+1)*12])  \n",
    "        F_V2_hourly [m] = np.nanmean(F_V2[i*12:(i+1)*12])  \n",
    "        F_V3_hourly [m] = 1-F_V1_hourly [m]-F_V2_hourly [m] #make sure F_N1_hourly + F_N2_hourly + F_N3_hourly = 1\n",
    "        datetime_hourly[m] = datetime[i*12]  \n",
    "        m+=1"
   ]
  },
  {
   "cell_type": "code",
   "execution_count": 16,
   "metadata": {},
   "outputs": [
    {
     "name": "stdout",
     "output_type": "stream",
     "text": [
      "                datetime           N1           N2         N3      N_total  \\\n",
      "0    2018-12-01 00:00:00  2746.029133  1107.904348  50.989841  4019.385935   \n",
      "1    2018-12-01 00:05:00  2499.435932  1105.918893  55.886110  3764.684852   \n",
      "2    2018-12-01 00:10:00  2340.110175  1089.361886  50.916489  3597.645730   \n",
      "3    2018-12-01 00:15:00  2256.101336  1160.807634  55.187856  3586.282183   \n",
      "4    2018-12-01 00:20:00  2204.724486  1166.117307  56.974034  3542.060087   \n",
      "...                  ...          ...          ...        ...          ...   \n",
      "5755 2018-12-20 23:35:00  1419.490295   569.819421  39.613712  2099.880912   \n",
      "5756 2018-12-20 23:40:00  1337.899698   576.126252  39.759802  2032.720493   \n",
      "5757 2018-12-20 23:45:00  1348.586619   568.204541  42.250234  2037.099283   \n",
      "5758 2018-12-20 23:50:00  1390.750324   601.209443  43.791553  2116.206785   \n",
      "5759 2018-12-20 23:55:00  1364.234034   547.469573  32.726146  2019.360917   \n",
      "\n",
      "          F_N1      F_N2      F_N3            V1            V2            V3  \\\n",
      "0     0.683196  0.275640  0.012686  1.504733e+09  3.432299e+08  1.068507e+09   \n",
      "1     0.663916  0.293761  0.014845  1.540923e+09  3.096041e+08  1.064720e+09   \n",
      "2     0.650456  0.302799  0.014153  1.512502e+09  3.886305e+08  1.091522e+09   \n",
      "3     0.629092  0.323680  0.015389  1.625416e+09  4.916731e+08  2.826170e+09   \n",
      "4     0.622441  0.329220  0.016085  1.632841e+09  3.936519e+08  1.476088e+09   \n",
      "...        ...       ...       ...           ...           ...           ...   \n",
      "5755  0.675986  0.271358  0.018865  9.559709e+08  0.000000e+00  0.000000e+00   \n",
      "5756  0.658182  0.283426  0.019560  9.435146e+08  0.000000e+00  0.000000e+00   \n",
      "5757  0.662013  0.278928  0.020740  1.145486e+09  3.612881e+09  1.109516e+10   \n",
      "5758  0.657190  0.284098  0.020693  1.155523e+09  3.533935e+09  1.203891e+10   \n",
      "5759  0.675577  0.271110  0.016206  8.698755e+08  0.000000e+00  0.000000e+00   \n",
      "\n",
      "           V_total      F_V1      F_V2      F_V3  \n",
      "0     3.067831e+09  0.490488  0.111880  0.348294  \n",
      "1     3.042962e+09  0.506389  0.101744  0.349896  \n",
      "2     3.133451e+09  0.482695  0.124026  0.348345  \n",
      "3     5.153086e+09  0.315426  0.095413  0.548442  \n",
      "4     3.689696e+09  0.442541  0.106690  0.400057  \n",
      "...            ...       ...       ...       ...  \n",
      "5755  9.559709e+08  1.000000  0.000000  0.000000  \n",
      "5756  9.435146e+08  1.000000  0.000000  0.000000  \n",
      "5757  1.729636e+10  0.066227  0.208881  0.641474  \n",
      "5758  1.813025e+10  0.063735  0.194919  0.664023  \n",
      "5759  8.698755e+08  1.000000  0.000000  0.000000  \n",
      "\n",
      "[5760 rows x 15 columns]\n"
     ]
    }
   ],
   "source": [
    "file_M_1 = pd.DataFrame() \n",
    "file_M_1['datetime'] = datetime\n",
    "file_M_1['N1'] = N1; file_M_1['N2'] = N2 ; file_M_1['N3'] = N3 ; file_M_1['N_total'] = areaXY_number \n",
    "file_M_1['F_N1'] = F_N1; file_M_1['F_N2'] = F_N2 ; file_M_1['F_N3'] = F_N3 \n",
    "file_M_1['V1'] = V1; file_M_1['V2'] = V2 ; file_M_1['V3'] = V3 ; file_M_1['V_total'] = areaXY_volume \n",
    "file_M_1['F_V1'] = F_V1; file_M_1['F_V2'] = F_V2 ; file_M_1['F_V3'] = F_V3 \n",
    "\n",
    "#return dataframe\n",
    "print(file_M_1)"
   ]
  }
 ],
 "metadata": {
  "kernelspec": {
   "display_name": "Python 3",
   "language": "python",
   "name": "python3"
  },
  "language_info": {
   "codemirror_mode": {
    "name": "ipython",
    "version": 3
   },
   "file_extension": ".py",
   "mimetype": "text/x-python",
   "name": "python",
   "nbconvert_exporter": "python",
   "pygments_lexer": "ipython3",
   "version": "3.10.7"
  },
  "orig_nbformat": 4,
  "vscode": {
   "interpreter": {
    "hash": "654f528c135dd070c77f913ebef382403b46939e97444d49995b19504ca47e40"
   }
  }
 },
 "nbformat": 4,
 "nbformat_minor": 2
}
