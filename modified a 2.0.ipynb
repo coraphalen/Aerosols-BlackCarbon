{
 "cells": [
  {
   "cell_type": "code",
   "execution_count": 1,
   "metadata": {},
   "outputs": [],
   "source": [
    "#import stuff\n",
    "import os\n",
    "import sys\n",
    "import arrow\n",
    "import numpy as np\n",
    "import pandas as pd\n",
    "from math import pi\n",
    "import seaborn as sns\n",
    "from datetime import datetime\n",
    "from numpy import nan_to_num\n",
    "import icartt\n",
    "import decimal"
   ]
  },
  {
   "cell_type": "code",
   "execution_count": 2,
   "metadata": {},
   "outputs": [],
   "source": [
    "filename = 'C:/Users/cphal/Desktop/MAC prediction model/FIREXAQ-LARGE-CDP_DC8_20190722_R0.ict'"
   ]
  },
  {
   "cell_type": "code",
   "execution_count": 4,
   "metadata": {},
   "outputs": [],
   "source": [
    "#function purpose: extract diameter input for FIREXAQ:\n",
    "def extract_diameters_firexaq(filename, starting_string, bin_location, num_others_beginning,num_others_end, spacer):\n",
    "    f = open(filename)\n",
    "    nextline = f.readline()\n",
    "\n",
    "    #extract and ignore the data we don't care about\n",
    "    while '-9999' not in nextline:\n",
    "        nextline = f.readline()\n",
    "\n",
    "    #extract variables at the beginning that we don't care about\n",
    "    for x in range(num_others_beginning):\n",
    "        nextline = f.readline()\n",
    "\n",
    "    #create list to store description of variables (to extract bin sizes from)\n",
    "    list_bin_descriptions = []\n",
    "    nextline = f.readline()\n",
    "    while len(nextline) > 10:\n",
    "        nextrow = nextline.split(',')\n",
    "        list_bin_descriptions.append(nextrow)\n",
    "        nextline = f.readline()\n",
    "    \n",
    "    #build list of bin sizes, exracting variables at the end that we don't care about\n",
    "    bin_size_description = []\n",
    "    for x in range(len(list_bin_descriptions)-num_others_end):\n",
    "        bin_size_description.append(list_bin_descriptions[x][bin_location])\n",
    "\n",
    "    #create new list with just the numbers\n",
    "    bin_sizes = []\n",
    "    \n",
    "    for x in range(len(bin_size_description)):\n",
    "        #extract beginning of description\n",
    "        string_length = len(starting_string) + spacer\n",
    "        #build number and add to list\n",
    "        str1 = bin_size_description[x]\n",
    "        str1.replace(\" \", \"_\")\n",
    "        c = str1[string_length]\n",
    "        new_bin_size = ''\n",
    "        while(c != 'u'):\n",
    "            new_bin_size = new_bin_size + c\n",
    "            string_length += 1\n",
    "            c = str1[string_length]\n",
    "        bin_sizes.append(float(new_bin_size))\n",
    "\n",
    "    size_dist_diameter_input = pd.Series(bin_sizes)\n",
    "    return size_dist_diameter_input        \n",
    "    \n",
    "    f.close()\n",
    "\n",
    "#UNITS: um (find way to remember this and implement it)"
   ]
  },
  {
   "cell_type": "code",
   "execution_count": 5,
   "metadata": {},
   "outputs": [],
   "source": [
    "def extract_diameters_las(filename, starting_string, tag):\n",
    "    f = open(filename)\n",
    "    nextline = f.readline()\n",
    "\n",
    "    #extract and ignore the data we don't care about\n",
    "    while tag not in nextline:\n",
    "        nextline = f.readline()\n",
    "\n",
    "    #create new list with just the numbers\n",
    "    list_row = nextline[len(starting_string):len(nextline)]\n",
    "    bin_sizes = list_row.split(\",\")\n",
    "\n",
    "    #delete unneeded ones\n",
    "    bin_sizes.remove('\\n')\n",
    "\n",
    "    size_dist_diameter_input = pd.Series(bin_sizes)\n",
    "    return size_dist_diameter_input \n",
    "    \n",
    "    f.close()\n",
    "\n",
    "filename = \"C:/Users/cphal/Desktop/MAC prediction model/FIREXAQ-LARGE-LAScold_DC8_20190716_R0.ict\"\n",
    "tag = \"OTHER_COMMENTS\"\n",
    "starting_string = \"OTHER_COMMENTS: Midpoint diameters of Bins 00 to 79 determined by DMA-classified ammonium sulfate calibrations are: \"\n",
    "size_dist_diameter_input = extract_diameters_las(filename,starting_string,tag)     "
   ]
  },
  {
   "cell_type": "code",
   "execution_count": 6,
   "metadata": {},
   "outputs": [],
   "source": [
    "file_details = pd.read_csv('C:/Users/cphal/Desktop/NOAA_Data/module_a_details.csv')\n",
    "#FIXME: make file beginning an input parameter\n",
    "file_beginning = 'FIREXAQ-LARGE-CDP_DC8_'\n",
    "\n",
    "index = 0\n",
    "for i in range(len(file_details)):\n",
    "    if file_beginning in file_details.iloc[i,0]:\n",
    "        index = i\n",
    "\n",
    "starting_string = str(file_details.iloc[index,2])\n",
    "tag = str(file_details.iloc[index,3])\n",
    "bin_location = int(file_details.iloc[index,4])\n",
    "num_others_beginning = int(file_details.iloc[index,5])\n",
    "num_others_end = int(file_details.iloc[index,6])\n",
    "spacer = int(file_details.iloc[index,7])\n",
    "\n",
    "#print(file_details)"
   ]
  },
  {
   "cell_type": "code",
   "execution_count": 7,
   "metadata": {},
   "outputs": [
    {
     "ename": "ValueError",
     "evalue": "could not convert string to float: 'dlogD) meas'",
     "output_type": "error",
     "traceback": [
      "\u001b[1;31m---------------------------------------------------------------------------\u001b[0m",
      "\u001b[1;31mValueError\u001b[0m                                Traceback (most recent call last)",
      "\u001b[1;32mc:\\Users\\cphal\\Desktop\\Aerosols\\modified a 2.0.ipynb Cell 6\u001b[0m in \u001b[0;36m1\n\u001b[0;32m      <a href='vscode-notebook-cell:/c%3A/Users/cphal/Desktop/Aerosols/modified%20a%202.0.ipynb#W5sZmlsZQ%3D%3D?line=0'>1</a>\u001b[0m \u001b[39m#filename = 'C:/Users/cphal/Desktop/MAC prediction model/FIREXAQ-LARGE-CDP_DC8_20190722_R0.ict'\u001b[39;00m\n\u001b[0;32m      <a href='vscode-notebook-cell:/c%3A/Users/cphal/Desktop/Aerosols/modified%20a%202.0.ipynb#W5sZmlsZQ%3D%3D?line=1'>2</a>\u001b[0m \u001b[39m#starting_string = 'number_size_distribution_dNdlogD_at_bin_center_'\u001b[39;00m\n\u001b[0;32m      <a href='vscode-notebook-cell:/c%3A/Users/cphal/Desktop/Aerosols/modified%20a%202.0.ipynb#W5sZmlsZQ%3D%3D?line=2'>3</a>\u001b[0m \u001b[39m#bin_location = 3\u001b[39;00m\n\u001b[1;32m   (...)\u001b[0m\n\u001b[0;32m     <a href='vscode-notebook-cell:/c%3A/Users/cphal/Desktop/Aerosols/modified%20a%202.0.ipynb#W5sZmlsZQ%3D%3D?line=11'>12</a>\u001b[0m \u001b[39m#num_others_end = 1\u001b[39;00m\n\u001b[0;32m     <a href='vscode-notebook-cell:/c%3A/Users/cphal/Desktop/Aerosols/modified%20a%202.0.ipynb#W5sZmlsZQ%3D%3D?line=12'>13</a>\u001b[0m \u001b[39m#spacer = 0\u001b[39;00m\n\u001b[1;32m---> <a href='vscode-notebook-cell:/c%3A/Users/cphal/Desktop/Aerosols/modified%20a%202.0.ipynb#W5sZmlsZQ%3D%3D?line=14'>15</a>\u001b[0m size_dist_diameter_input \u001b[39m=\u001b[39m extract_diameters_firexaq(filename, starting_string, bin_location, num_others_beginning, num_others_end, spacer)\n\u001b[0;32m     <a href='vscode-notebook-cell:/c%3A/Users/cphal/Desktop/Aerosols/modified%20a%202.0.ipynb#W5sZmlsZQ%3D%3D?line=16'>17</a>\u001b[0m \u001b[39m#load in ict file to python (FIXME: delete later)\u001b[39;00m\n\u001b[0;32m     <a href='vscode-notebook-cell:/c%3A/Users/cphal/Desktop/Aerosols/modified%20a%202.0.ipynb#W5sZmlsZQ%3D%3D?line=17'>18</a>\u001b[0m ict \u001b[39m=\u001b[39m icartt\u001b[39m.\u001b[39mDataset(filename)\n",
      "\u001b[1;32mc:\\Users\\cphal\\Desktop\\Aerosols\\modified a 2.0.ipynb Cell 6\u001b[0m in \u001b[0;36m4\n\u001b[0;32m     <a href='vscode-notebook-cell:/c%3A/Users/cphal/Desktop/Aerosols/modified%20a%202.0.ipynb#W5sZmlsZQ%3D%3D?line=39'>40</a>\u001b[0m         string_length \u001b[39m+\u001b[39m\u001b[39m=\u001b[39m \u001b[39m1\u001b[39m\n\u001b[0;32m     <a href='vscode-notebook-cell:/c%3A/Users/cphal/Desktop/Aerosols/modified%20a%202.0.ipynb#W5sZmlsZQ%3D%3D?line=40'>41</a>\u001b[0m         c \u001b[39m=\u001b[39m str1[string_length]\n\u001b[1;32m---> <a href='vscode-notebook-cell:/c%3A/Users/cphal/Desktop/Aerosols/modified%20a%202.0.ipynb#W5sZmlsZQ%3D%3D?line=41'>42</a>\u001b[0m     bin_sizes\u001b[39m.\u001b[39mappend(\u001b[39mfloat\u001b[39;49m(new_bin_size))\n\u001b[0;32m     <a href='vscode-notebook-cell:/c%3A/Users/cphal/Desktop/Aerosols/modified%20a%202.0.ipynb#W5sZmlsZQ%3D%3D?line=43'>44</a>\u001b[0m size_dist_diameter_input \u001b[39m=\u001b[39m pd\u001b[39m.\u001b[39mSeries(bin_sizes)\n\u001b[0;32m     <a href='vscode-notebook-cell:/c%3A/Users/cphal/Desktop/Aerosols/modified%20a%202.0.ipynb#W5sZmlsZQ%3D%3D?line=44'>45</a>\u001b[0m \u001b[39mreturn\u001b[39;00m size_dist_diameter_input        \n",
      "\u001b[1;31mValueError\u001b[0m: could not convert string to float: 'dlogD) meas'"
     ]
    }
   ],
   "source": [
    "#filename = 'C:/Users/cphal/Desktop/MAC prediction model/FIREXAQ-LARGE-CDP_DC8_20190722_R0.ict'\n",
    "#starting_string = 'number_size_distribution_dNdlogD_at_bin_center_'\n",
    "#bin_location = 3\n",
    "#num_others_beginning = 2\n",
    "#num_others_end = 0\n",
    "#spacer = 1\n",
    "\n",
    "#filename = 'C:/Users/cphal/Desktop/MAC prediction model/FIREXAQ-LARGE-CPSPD_DC8_20190722_R0.ict'\n",
    "#starting_string = ' bin center EQ '\n",
    "#bin_location = 4\n",
    "#num_others_beginning = 2\n",
    "#num_others_end = 1\n",
    "#spacer = 0\n",
    "\n",
    "size_dist_diameter_input = extract_diameters_firexaq(filename, starting_string, bin_location, num_others_beginning, num_others_end, spacer)\n",
    "\n",
    "#load in ict file to python (FIXME: delete later)\n",
    "ict = icartt.Dataset(filename)\n",
    "df = ict.data[:]\n",
    "varnames = [x for x in ict.variables]\n",
    "df = pd.DataFrame(df, columns = varnames)"
   ]
  },
  {
   "cell_type": "code",
   "execution_count": 6,
   "metadata": {},
   "outputs": [],
   "source": [
    "#put first column into datetime file; next two columns are nCDP and vCDP\n",
    "#last columns are the bins - size_dist_input\n",
    "\n",
    "#time after midnight from dataframe - may not be needed\n",
    "#datetime = df['Time_mid']\n",
    "#totalCDP = df[['nCDP','vCDP']]\n",
    "\n",
    "binnames = varnames[num_others_beginning+1:len(varnames)-num_others_end]\n",
    "size_dist_input_original = df[binnames]"
   ]
  },
  {
   "cell_type": "code",
   "execution_count": 7,
   "metadata": {},
   "outputs": [],
   "source": [
    "#transpose size_dist_input to get it to work with Module A\n",
    "size_dist_input = pd.DataFrame.transpose(size_dist_input_original)"
   ]
  },
  {
   "cell_type": "code",
   "execution_count": 8,
   "metadata": {},
   "outputs": [],
   "source": [
    "#Implement Module A (w/o merge) (these are the dividing lines)\n",
    "#Note: check units\n",
    "d_N1 = int(10.5)\n",
    "d_N2 = int(30)\n",
    "d_V1 = int(25)\n",
    "d_V2 = int(40)"
   ]
  },
  {
   "cell_type": "code",
   "execution_count": 9,
   "metadata": {},
   "outputs": [
    {
     "name": "stdout",
     "output_type": "stream",
     "text": [
      "10 30 25 40 49.0\n"
     ]
    }
   ],
   "source": [
    "# If the selected size classes are broader than the measured aerosol sizes \n",
    "print (d_N1,d_N2,d_V1,d_V2,size_dist_diameter_input[len(size_dist_diameter_input)-1])\n",
    "if (d_N1 < size_dist_diameter_input[0]):  #only large particles is available\n",
    "    N1=0; F_N1=0  \n",
    "    print(\"violation of: d_N1 < size_dist_diameter_input[0]\")\n",
    "if (d_N2 > size_dist_diameter_input[len(size_dist_diameter_input)-1]):  #only small particles is available\n",
    "    N3=0; F_N3=0\n",
    "    print(\"violation of: d_N2 > size_dist_diameter_input[len(size_dist_diameter_input)-1]\")\n",
    "if (d_V1 < size_dist_diameter_input[0]):\n",
    "    V1=0; F_V1=0\n",
    "    print(\"violation of: d_V1 < size_dist_diameter_input[0]\")\n",
    "if (d_V2 > size_dist_diameter_input[len(size_dist_diameter_input)-1]):\n",
    "    V3=0; F_V=0\n",
    "    print(\"violation of: d_V2 > size_dist_diameter_input[len(size_dist_diameter_input)-1]\")"
   ]
  },
  {
   "cell_type": "code",
   "execution_count": 10,
   "metadata": {},
   "outputs": [],
   "source": [
    "date_time = ict.times\n",
    "datetimedf = pd.DataFrame(date_time, columns= ['datetime'])\n",
    "num1 = str(date_time[0])\n",
    "dateparse = lambda x: datetime.strptime(x, '%Y-%m-%dT%H:%M:%S.000000000')"
   ]
  },
  {
   "cell_type": "code",
   "execution_count": 11,
   "metadata": {},
   "outputs": [],
   "source": [
    "#calculate dVdlogdP using dNdlogdP\n",
    "diameter_power = np.power(size_dist_diameter_input, 3)\n",
    "diameter_power = diameter_power.to_numpy()\n",
    "size_dist_volume = pi/6*size_dist_input.mul(diameter_power,axis='index')"
   ]
  },
  {
   "cell_type": "code",
   "execution_count": 43,
   "metadata": {},
   "outputs": [
    {
     "data": {
      "image/png": "[encoded data removed]",
      "text/plain": [
       "<Figure size 640x480 with 1 Axes>"
      ]
     },
     "metadata": {},
     "output_type": "display_data"
    }
   ],
   "source": [
    "import matplotlib.pyplot as plt\n",
    "#x_axis = size_dist_volume[3000]\n",
    "#x_axis.append(size_dist_volume[4000])\n",
    "#y_axis = size_dist_volume_orig[3000]\n",
    "#y_axis.append(size_dist_volume_orig[4000])\n",
    "x_axis = size_dist_volume\n",
    "y_axis = size_dist_volume_orig\n",
    "plt.scatter(x_axis,y_axis,s=1)\n",
    "plt.xlabel('New Method')\n",
    "plt.ylabel('Old Method')\n",
    "plt.show()"
   ]
  },
  {
   "cell_type": "code",
   "execution_count": 12,
   "metadata": {},
   "outputs": [],
   "source": [
    "N1 = np.zeros(np.size(size_dist_input,1)); N2 = np.zeros(np.size(size_dist_input,1)); N3 = np.zeros(np.size(size_dist_input,1))\n",
    "F_N1 = np.zeros(np.size(size_dist_input,1)); F_N2 = np.zeros(np.size(size_dist_input,1)); F_N3 = np.zeros(np.size(size_dist_input,1))   \n",
    "areaXY_number = np.zeros(np.size(size_dist_input,1))  \n",
    "V1 = np.zeros(np.size(size_dist_input,1)); V2 = np.zeros(np.size(size_dist_input,1)); V3 = np.zeros(np.size(size_dist_input,1))\n",
    "F_V1 = np.zeros(np.size(size_dist_input,1)); F_V2 = np.zeros(np.size(size_dist_input,1)); F_V3 = np.zeros(np.size(size_dist_input,1))   \n",
    "areaXY_volume = np.zeros(np.size(size_dist_input,1))"
   ]
  },
  {
   "cell_type": "code",
   "execution_count": 13,
   "metadata": {},
   "outputs": [
    {
     "name": "stdout",
     "output_type": "stream",
     "text": [
      "[0. 0. 0. ... 0. 0. 0.]\n"
     ]
    }
   ],
   "source": [
    "print(areaXY_number)"
   ]
  },
  {
   "cell_type": "code",
   "execution_count": 14,
   "metadata": {},
   "outputs": [],
   "source": [
    "#prepare for trapz calculation\n",
    "size_dist_input[np.isnan(size_dist_input)] = 0 \n",
    "size_dist_volume[np.isnan(size_dist_volume)] = 0 \n",
    "\n",
    "ln_size_dist_diameter_input=np.log(size_dist_diameter_input)"
   ]
  },
  {
   "cell_type": "code",
   "execution_count": 24,
   "metadata": {},
   "outputs": [],
   "source": [
    "#function purpose: find nearest value (d_N1, d_N2, d_V1, d_V2) in numpy array (instrument measured diameters)\n",
    "def find_nearest(array, value):\n",
    "    n = [abs(i-value) for i in array]\n",
    "    idx = n.index(min(n))\n",
    "    return idx"
   ]
  },
  {
   "cell_type": "code",
   "execution_count": 25,
   "metadata": {},
   "outputs": [],
   "source": [
    "print(\"Calculating...\")\n",
    "for m in range(np.size(size_dist_input,1)):\n",
    "\n",
    "        d_N1_nearest = find_nearest(size_dist_diameter_input,d_N1)\n",
    "        d_N2_nearest = find_nearest(size_dist_diameter_input,d_N2)\n",
    "        d_V1_nearest = find_nearest(size_dist_diameter_input,d_V1)\n",
    "        d_V2_nearest = find_nearest(size_dist_diameter_input,d_V2)\n",
    "        areaXY_number[m] = np.trapz(size_dist_input.values[:,m], x=ln_size_dist_diameter_input)\n",
    "        N1[m] = np.trapz(size_dist_input.values[0:d_N1_nearest,m], x=ln_size_dist_diameter_input[0:d_N1_nearest])\n",
    "        N2[m] = np.trapz(size_dist_input.values[d_N1_nearest+1:d_N2_nearest,m], x=ln_size_dist_diameter_input[d_N1_nearest+1:d_N2_nearest])    \n",
    "        N3[m] = np.trapz(size_dist_input.values[d_N2_nearest+1:,m], x=ln_size_dist_diameter_input[d_N2_nearest+1:])\n",
    "        if(areaXY_number[m] != 0):\n",
    "                F_N1[m] = N1[m]/areaXY_number[m]\n",
    "                F_N2[m] = N2[m]/areaXY_number[m]       \n",
    "                F_N3[m] = N3[m]/areaXY_number[m]\n",
    "\n",
    "        areaXY_volume[m] = np.trapz(size_dist_volume.values[:,m], x=ln_size_dist_diameter_input)\n",
    "        V1[m] = np.trapz(size_dist_volume.values[0:d_V1_nearest,m], x=ln_size_dist_diameter_input[0:d_V1_nearest])\n",
    "        V2[m] = np.trapz(size_dist_volume.values[d_V1_nearest+1:d_V2_nearest,m], x=ln_size_dist_diameter_input[d_V1_nearest+1:d_V2_nearest])    \n",
    "        V3[m] = np.trapz(size_dist_volume.values[d_V2_nearest+1:,m], x=ln_size_dist_diameter_input[d_V2_nearest+1:])\n",
    "        if(areaXY_volume[m] != 0):\n",
    "                F_V1[m] = V1[m]/areaXY_volume[m]\n",
    "                F_V2[m] = V2[m]/areaXY_volume[m]     \n",
    "                F_V3[m] = V3[m]/areaXY_volume[m]"
   ]
  },
  {
   "cell_type": "code",
   "execution_count": 26,
   "metadata": {},
   "outputs": [],
   "source": [
    "file_M_1 = pd.DataFrame() \n",
    "file_M_1['datetime'] = datetimedf\n",
    "file_M_1['N1'] = N1; file_M_1['N2'] = N2 ; file_M_1['N3'] = N3 ; file_M_1['N_total'] = areaXY_number \n",
    "file_M_1['F_N1'] = F_N1; file_M_1['F_N2'] = F_N2 ; file_M_1['F_N3'] = F_N3 \n",
    "file_M_1['V1'] = V1; file_M_1['V2'] = V2 ; file_M_1['V3'] = V3 ; file_M_1['V_total'] = areaXY_volume \n",
    "file_M_1['F_V1'] = F_V1; file_M_1['F_V2'] = F_V2 ; file_M_1['F_V3'] = F_V3 "
   ]
  },
  {
   "cell_type": "code",
   "execution_count": 27,
   "metadata": {},
   "outputs": [
    {
     "name": "stdout",
     "output_type": "stream",
     "text": [
      "                 datetime        N1   N2   N3   N_total  F_N1  F_N2  F_N3  \\\n",
      "0     2019-07-22 18:15:40  0.000000  0.0  0.0  0.000000   0.0   0.0   0.0   \n",
      "1     2019-07-22 18:15:41  0.000000  0.0  0.0  0.000000   0.0   0.0   0.0   \n",
      "2     2019-07-22 18:15:42  0.000000  0.0  0.0  0.000000   0.0   0.0   0.0   \n",
      "3     2019-07-22 18:15:43  0.000000  0.0  0.0  0.000000   0.0   0.0   0.0   \n",
      "4     2019-07-22 18:15:44  0.000000  0.0  0.0  0.000000   0.0   0.0   0.0   \n",
      "...                   ...       ...  ...  ...       ...   ...   ...   ...   \n",
      "24741 2019-07-23 01:08:01  0.007244  0.0  0.0  0.007244   1.0   0.0   0.0   \n",
      "24742 2019-07-23 01:08:02  0.000000  0.0  0.0  0.000000   0.0   0.0   0.0   \n",
      "24743 2019-07-23 01:08:03  0.204961  0.0  0.0  0.204961   1.0   0.0   0.0   \n",
      "24744 2019-07-23 01:08:04  0.007671  0.0  0.0  0.007671   1.0   0.0   0.0   \n",
      "24745 2019-07-23 01:08:05  0.221747  0.0  0.0  0.221747   1.0   0.0   0.0   \n",
      "\n",
      "              V1   V2   V3    V_total  F_V1  F_V2  F_V3  \n",
      "0       0.000000  0.0  0.0   0.000000   0.0   0.0   0.0  \n",
      "1       0.000000  0.0  0.0   0.000000   0.0   0.0   0.0  \n",
      "2       0.000000  0.0  0.0   0.000000   0.0   0.0   0.0  \n",
      "3       0.000000  0.0  0.0   0.000000   0.0   0.0   0.0  \n",
      "4       0.000000  0.0  0.0   0.000000   0.0   0.0   0.0  \n",
      "...          ...  ...  ...        ...   ...   ...   ...  \n",
      "24741   0.059266  0.0  0.0   0.059266   1.0   0.0   0.0  \n",
      "24742   0.000000  0.0  0.0   0.000000   0.0   0.0   0.0  \n",
      "24743  13.808481  0.0  0.0  13.808481   1.0   0.0   0.0  \n",
      "24744   0.062757  0.0  0.0   0.062757   1.0   0.0   0.0  \n",
      "24745  21.197304  0.0  0.0  21.197304   1.0   0.0   0.0  \n",
      "\n",
      "[24746 rows x 15 columns]\n"
     ]
    }
   ],
   "source": [
    "print(file_M_1)"
   ]
  }
 ],
 "metadata": {
  "kernelspec": {
   "display_name": "Python 3",
   "language": "python",
   "name": "python3"
  },
  "language_info": {
   "codemirror_mode": {
    "name": "ipython",
    "version": 3
   },
   "file_extension": ".py",
   "mimetype": "text/x-python",
   "name": "python",
   "nbconvert_exporter": "python",
   "pygments_lexer": "ipython3",
   "version": "3.10.7"
  },
  "orig_nbformat": 4,
  "vscode": {
   "interpreter": {
    "hash": "654f528c135dd070c77f913ebef382403b46939e97444d49995b19504ca47e40"
   }
  }
 },
 "nbformat": 4,
 "nbformat_minor": 2
}
